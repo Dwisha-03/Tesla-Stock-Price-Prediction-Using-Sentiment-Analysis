{
 "cells": [
  {
   "cell_type": "markdown",
   "metadata": {},
   "source": [
    "# Data Science & Business Analytics Internship"
   ]
  },
  {
   "cell_type": "markdown",
   "metadata": {},
   "source": [
    "GRIP: The Sparks Foundation\n",
    "\n",
    "Author - Dwisha Mehta\n",
    "\n",
    "Task 1 - Stock Market Prediction using Numerical and Textual Analysis\n",
    "\n",
    "In this task, I created a time series model using LSTM for TESLA stock performance prediction using numerical analysis of historical stock prices, and sentimental analysis of news headlines.\n",
    "\n",
    "Datasets Used:\n",
    "\n",
    "Historical stock prices :https://finance.yahoo.com/ (Tesla)\n",
    "\n",
    "Textual news headlines : https://bit.ly/36fFPI6"
   ]
  },
  {
   "cell_type": "code",
   "execution_count": 13,
   "metadata": {
    "_cell_guid": "b1076dfc-b9ad-4769-8c92-a6c4dae69d19",
    "_uuid": "8f2839f25d086af736a60e9eeb907d3b93b6e0e5",
    "execution": {
     "iopub.execute_input": "2023-01-13T19:31:14.700289Z",
     "iopub.status.busy": "2023-01-13T19:31:14.699881Z",
     "iopub.status.idle": "2023-01-13T19:31:14.770845Z",
     "shell.execute_reply": "2023-01-13T19:31:14.769970Z",
     "shell.execute_reply.started": "2023-01-13T19:31:14.700255Z"
    }
   },
   "outputs": [
    {
     "name": "stdout",
     "output_type": "stream",
     "text": [
      "/kaggle/input/tesla-stock-price/TSLA (1).csv\n",
      "/kaggle/input/stocknews/upload_DJIA_table.csv\n",
      "/kaggle/input/stocknews/Combined_News_DJIA.csv\n",
      "/kaggle/input/stocknews/RedditNews.csv\n",
      "/kaggle/input/india-headlines-news-dataset/india-news-headlines.csv\n"
     ]
    }
   ],
   "source": [
    "# This Python 3 environment comes with many helpful analytics libraries installed\n",
    "# It is defined by the kaggle/python Docker image: https://github.com/kaggle/docker-python\n",
    "# For example, here's several helpful packages to load\n",
    "\n",
    "import numpy as np # linear algebra\n",
    "import pandas as pd # data processing, CSV file I/O (e.g. pd.read_csv)\n",
    "\n",
    "# Input data files are available in the read-only \"../input/\" directory\n",
    "# For example, running this (by clicking run or pressing Shift+Enter) will list all files under the input directory\n",
    "\n",
    "import os\n",
    "for dirname, _, filenames in os.walk('/kaggle/input'):\n",
    "    for filename in filenames:\n",
    "        print(os.path.join(dirname, filename))\n",
    "\n",
    "# You can write up to 20GB to the current directory (/kaggle/working/) that gets preserved as output when you create a version using \"Save & Run All\" \n",
    "# You can also write temporary files to /kaggle/temp/, but they won't be saved outside of the current session"
   ]
  },
  {
   "cell_type": "code",
   "execution_count": 2,
   "metadata": {
    "execution": {
     "iopub.execute_input": "2023-01-13T19:24:08.649987Z",
     "iopub.status.busy": "2023-01-13T19:24:08.649432Z",
     "iopub.status.idle": "2023-01-13T19:24:22.386149Z",
     "shell.execute_reply": "2023-01-13T19:24:22.384249Z",
     "shell.execute_reply.started": "2023-01-13T19:24:08.649941Z"
    }
   },
   "outputs": [
    {
     "name": "stdout",
     "output_type": "stream",
     "text": [
      "Collecting vaderSentiment\n",
      "  Downloading vaderSentiment-3.3.2-py2.py3-none-any.whl (125 kB)\n",
      "\u001b[2K     \u001b[90m━━━━━━━━━━━━━━━━━━━━━━━━━━━━━━━━━━━━━\u001b[0m \u001b[32m126.0/126.0 kB\u001b[0m \u001b[31m937.9 kB/s\u001b[0m eta \u001b[36m0:00:00\u001b[0ma \u001b[36m0:00:01\u001b[0m\n",
      "\u001b[?25hRequirement already satisfied: requests in /opt/conda/lib/python3.7/site-packages (from vaderSentiment) (2.28.1)\n",
      "Requirement already satisfied: charset-normalizer<3,>=2 in /opt/conda/lib/python3.7/site-packages (from requests->vaderSentiment) (2.1.0)\n",
      "Requirement already satisfied: urllib3<1.27,>=1.21.1 in /opt/conda/lib/python3.7/site-packages (from requests->vaderSentiment) (1.26.13)\n",
      "Requirement already satisfied: idna<4,>=2.5 in /opt/conda/lib/python3.7/site-packages (from requests->vaderSentiment) (3.3)\n",
      "Requirement already satisfied: certifi>=2017.4.17 in /opt/conda/lib/python3.7/site-packages (from requests->vaderSentiment) (2022.12.7)\n",
      "Installing collected packages: vaderSentiment\n",
      "Successfully installed vaderSentiment-3.3.2\n",
      "\u001b[33mWARNING: Running pip as the 'root' user can result in broken permissions and conflicting behaviour with the system package manager. It is recommended to use a virtual environment instead: https://pip.pypa.io/warnings/venv\u001b[0m\u001b[33m\n",
      "\u001b[0mNote: you may need to restart the kernel to use updated packages.\n"
     ]
    }
   ],
   "source": [
    "pip install vaderSentiment"
   ]
  },
  {
   "cell_type": "markdown",
   "metadata": {},
   "source": [
    "Import Libraries"
   ]
  },
  {
   "cell_type": "code",
   "execution_count": 44,
   "metadata": {
    "execution": {
     "iopub.execute_input": "2023-01-13T20:31:23.415880Z",
     "iopub.status.busy": "2023-01-13T20:31:23.415467Z",
     "iopub.status.idle": "2023-01-13T20:31:23.592301Z",
     "shell.execute_reply": "2023-01-13T20:31:23.591193Z",
     "shell.execute_reply.started": "2023-01-13T20:31:23.415844Z"
    }
   },
   "outputs": [],
   "source": [
    "from vaderSentiment.vaderSentiment import SentimentIntensityAnalyzer\n",
    "import numpy as np\n",
    "import pandas as pd\n",
    "from textblob import TextBlob\n",
    "import re\n",
    "from sklearn.model_selection import train_test_split\n",
    "from sklearn.metrics import accuracy_score, classification_report\n",
    "from sklearn.discriminant_analysis import LinearDiscriminantAnalysis\n",
    "import matplotlib.pyplot as plt\n",
    "%matplotlib inline\n",
    "import nltk\n",
    "import seaborn as sns"
   ]
  },
  {
   "cell_type": "code",
   "execution_count": 15,
   "metadata": {
    "execution": {
     "iopub.execute_input": "2023-01-13T19:31:18.129539Z",
     "iopub.status.busy": "2023-01-13T19:31:18.128832Z",
     "iopub.status.idle": "2023-01-13T19:31:22.608292Z",
     "shell.execute_reply": "2023-01-13T19:31:22.607148Z",
     "shell.execute_reply.started": "2023-01-13T19:31:18.129501Z"
    }
   },
   "outputs": [],
   "source": [
    "# reading the data\n",
    "stock_headlines = pd.read_csv('/kaggle/input/india-headlines-news-dataset/india-news-headlines.csv')\n",
    "stock_price = pd.read_csv('/kaggle/input/tesla-stock-price/TSLA (1).csv')"
   ]
  },
  {
   "cell_type": "code",
   "execution_count": 16,
   "metadata": {
    "execution": {
     "iopub.execute_input": "2023-01-13T19:31:23.588138Z",
     "iopub.status.busy": "2023-01-13T19:31:23.587712Z",
     "iopub.status.idle": "2023-01-13T19:31:23.595195Z",
     "shell.execute_reply": "2023-01-13T19:31:23.594193Z",
     "shell.execute_reply.started": "2023-01-13T19:31:23.588106Z"
    }
   },
   "outputs": [],
   "source": [
    "# filtering the stock_price data\n",
    "stock_price = stock_price[stock_price['Date'] > '2020-12-31']"
   ]
  },
  {
   "cell_type": "markdown",
   "metadata": {},
   "source": [
    "Data Cleaning"
   ]
  },
  {
   "cell_type": "code",
   "execution_count": 17,
   "metadata": {
    "execution": {
     "iopub.execute_input": "2023-01-13T19:31:24.200715Z",
     "iopub.status.busy": "2023-01-13T19:31:24.200317Z",
     "iopub.status.idle": "2023-01-13T19:31:28.361208Z",
     "shell.execute_reply": "2023-01-13T19:31:28.360118Z",
     "shell.execute_reply.started": "2023-01-13T19:31:24.200681Z"
    }
   },
   "outputs": [],
   "source": [
    "# Drop missing values\n",
    "stock_price.isna().sum() # there are no missing values\n",
    "\n",
    "# Drop duplicates\n",
    "stock_price = stock_price.drop_duplicates()\n",
    "stock_headlines = stock_headlines.drop_duplicates()\n",
    "\n",
    "# Convert object column to the date column \n",
    "stock_price['Date'] = pd.to_datetime(stock_price['Date'], format = '%Y-%m-%d')\n",
    "\n",
    "# filter out the important columns in the dataset\n",
    "stock_price = stock_price.filter(['Date', 'Close', 'Open', 'High', 'Low', 'Volume'])\n",
    "\n",
    "# sort the data in ascending order\n",
    "stock_price.sort_index(ascending = True, axis = 0)\n",
    "\n",
    "# set the Date column to the index column\n",
    "stock_price.set_index('Date', inplace=True)"
   ]
  },
  {
   "cell_type": "code",
   "execution_count": 18,
   "metadata": {
    "execution": {
     "iopub.execute_input": "2023-01-13T19:31:28.364044Z",
     "iopub.status.busy": "2023-01-13T19:31:28.363566Z",
     "iopub.status.idle": "2023-01-13T19:31:29.696606Z",
     "shell.execute_reply": "2023-01-13T19:31:29.695718Z",
     "shell.execute_reply.started": "2023-01-13T19:31:28.364001Z"
    }
   },
   "outputs": [
    {
     "data": {
      "text/plain": [
       "Text(0.5, 1.0, 'Tesla stock attributes from 2020 to 2023')"
      ]
     },
     "execution_count": 18,
     "metadata": {},
     "output_type": "execute_result"
    },
    {
     "data": {
      "image/png": "[encoded data removed]",
      "text/plain": [
       "<Figure size 720x864 with 5 Axes>"
      ]
     },
     "metadata": {
      "needs_background": "light"
     },
     "output_type": "display_data"
    }
   ],
   "source": [
    "stock_price['2021':'2023'].plot(subplots=True, figsize=(10,12))\n",
    "plt.title('Tesla stock attributes from 2020 to 2023')"
   ]
  },
  {
   "cell_type": "code",
   "execution_count": 19,
   "metadata": {
    "execution": {
     "iopub.execute_input": "2023-01-13T19:31:29.698903Z",
     "iopub.status.busy": "2023-01-13T19:31:29.697962Z",
     "iopub.status.idle": "2023-01-13T19:31:29.712183Z",
     "shell.execute_reply": "2023-01-13T19:31:29.710940Z",
     "shell.execute_reply.started": "2023-01-13T19:31:29.698868Z"
    }
   },
   "outputs": [
    {
     "data": {
      "text/html": [
       "<div>\n",
       "<style scoped>\n",
       "    .dataframe tbody tr th:only-of-type {\n",
       "        vertical-align: middle;\n",
       "    }\n",
       "\n",
       "    .dataframe tbody tr th {\n",
       "        vertical-align: top;\n",
       "    }\n",
       "\n",
       "    .dataframe thead th {\n",
       "        text-align: right;\n",
       "    }\n",
       "</style>\n",
       "<table border=\"1\" class=\"dataframe\">\n",
       "  <thead>\n",
       "    <tr style=\"text-align: right;\">\n",
       "      <th></th>\n",
       "      <th>publish_date</th>\n",
       "      <th>headline_category</th>\n",
       "      <th>headline_text</th>\n",
       "    </tr>\n",
       "  </thead>\n",
       "  <tbody>\n",
       "    <tr>\n",
       "      <th>0</th>\n",
       "      <td>20010102</td>\n",
       "      <td>unknown</td>\n",
       "      <td>Status quo will not be disturbed at Ayodhya; s...</td>\n",
       "    </tr>\n",
       "    <tr>\n",
       "      <th>1</th>\n",
       "      <td>20010102</td>\n",
       "      <td>unknown</td>\n",
       "      <td>Fissures in Hurriyat over Pak visit</td>\n",
       "    </tr>\n",
       "    <tr>\n",
       "      <th>2</th>\n",
       "      <td>20010102</td>\n",
       "      <td>unknown</td>\n",
       "      <td>America's unwanted heading for India?</td>\n",
       "    </tr>\n",
       "    <tr>\n",
       "      <th>3</th>\n",
       "      <td>20010102</td>\n",
       "      <td>unknown</td>\n",
       "      <td>For bigwigs; it is destination Goa</td>\n",
       "    </tr>\n",
       "    <tr>\n",
       "      <th>4</th>\n",
       "      <td>20010102</td>\n",
       "      <td>unknown</td>\n",
       "      <td>Extra buses to clear tourist traffic</td>\n",
       "    </tr>\n",
       "    <tr>\n",
       "      <th>...</th>\n",
       "      <td>...</td>\n",
       "      <td>...</td>\n",
       "      <td>...</td>\n",
       "    </tr>\n",
       "    <tr>\n",
       "      <th>3650965</th>\n",
       "      <td>20220331</td>\n",
       "      <td>city.srinagar</td>\n",
       "      <td>J&amp;K sacks 2 cops; 3 other employees over terro...</td>\n",
       "    </tr>\n",
       "    <tr>\n",
       "      <th>3650966</th>\n",
       "      <td>20220331</td>\n",
       "      <td>entertainment.hindi.bollywood</td>\n",
       "      <td>Ranbir Kapoor says 'Rishi Kapoor enjoyed his a...</td>\n",
       "    </tr>\n",
       "    <tr>\n",
       "      <th>3650967</th>\n",
       "      <td>20220331</td>\n",
       "      <td>city.trichy</td>\n",
       "      <td>As Covid-19 cases drop to nil in southern dist...</td>\n",
       "    </tr>\n",
       "    <tr>\n",
       "      <th>3650968</th>\n",
       "      <td>20220331</td>\n",
       "      <td>city.erode</td>\n",
       "      <td>Tamil Nadu sees marginal rise of Covid cases w...</td>\n",
       "    </tr>\n",
       "    <tr>\n",
       "      <th>3650969</th>\n",
       "      <td>20220331</td>\n",
       "      <td>city.salem</td>\n",
       "      <td>Tamil Nadu sees marginal rise of Covid cases w...</td>\n",
       "    </tr>\n",
       "  </tbody>\n",
       "</table>\n",
       "<p>3626110 rows × 3 columns</p>\n",
       "</div>"
      ],
      "text/plain": [
       "         publish_date              headline_category  \\\n",
       "0            20010102                        unknown   \n",
       "1            20010102                        unknown   \n",
       "2            20010102                        unknown   \n",
       "3            20010102                        unknown   \n",
       "4            20010102                        unknown   \n",
       "...               ...                            ...   \n",
       "3650965      20220331                  city.srinagar   \n",
       "3650966      20220331  entertainment.hindi.bollywood   \n",
       "3650967      20220331                    city.trichy   \n",
       "3650968      20220331                     city.erode   \n",
       "3650969      20220331                     city.salem   \n",
       "\n",
       "                                             headline_text  \n",
       "0        Status quo will not be disturbed at Ayodhya; s...  \n",
       "1                      Fissures in Hurriyat over Pak visit  \n",
       "2                    America's unwanted heading for India?  \n",
       "3                       For bigwigs; it is destination Goa  \n",
       "4                     Extra buses to clear tourist traffic  \n",
       "...                                                    ...  \n",
       "3650965  J&K sacks 2 cops; 3 other employees over terro...  \n",
       "3650966  Ranbir Kapoor says 'Rishi Kapoor enjoyed his a...  \n",
       "3650967  As Covid-19 cases drop to nil in southern dist...  \n",
       "3650968  Tamil Nadu sees marginal rise of Covid cases w...  \n",
       "3650969  Tamil Nadu sees marginal rise of Covid cases w...  \n",
       "\n",
       "[3626110 rows x 3 columns]"
      ]
     },
     "execution_count": 19,
     "metadata": {},
     "output_type": "execute_result"
    }
   ],
   "source": [
    "stock_headlines"
   ]
  },
  {
   "cell_type": "markdown",
   "metadata": {},
   "source": [
    "Data Cleaning"
   ]
  },
  {
   "cell_type": "code",
   "execution_count": 20,
   "metadata": {
    "execution": {
     "iopub.execute_input": "2023-01-13T19:31:29.714444Z",
     "iopub.status.busy": "2023-01-13T19:31:29.714132Z",
     "iopub.status.idle": "2023-01-13T19:31:37.008067Z",
     "shell.execute_reply": "2023-01-13T19:31:37.006886Z",
     "shell.execute_reply.started": "2023-01-13T19:31:29.714417Z"
    }
   },
   "outputs": [],
   "source": [
    "# Drop missing values\n",
    "stock_headlines.isna().sum() # there are no missing values\n",
    "\n",
    "# Drop duplicates\n",
    "stock_headlines = stock_headlines.drop_duplicates()\n",
    "\n",
    "# convert the column to date column\n",
    "stock_headlines['publish_date'] = pd.to_datetime(stock_headlines['publish_date'].astype(str), format='%Y%m%d')"
   ]
  },
  {
   "cell_type": "code",
   "execution_count": 21,
   "metadata": {
    "execution": {
     "iopub.execute_input": "2023-01-13T19:31:39.588454Z",
     "iopub.status.busy": "2023-01-13T19:31:39.588053Z",
     "iopub.status.idle": "2023-01-13T19:31:39.698308Z",
     "shell.execute_reply": "2023-01-13T19:31:39.697113Z",
     "shell.execute_reply.started": "2023-01-13T19:31:39.588420Z"
    }
   },
   "outputs": [],
   "source": [
    "# renaming columns\n",
    "stock_headlines.rename(columns = {'headline_text':'Headlines'}, inplace = True)\n",
    "stock_headlines.rename(columns = {'publish_date':'Date'}, inplace = True)\n",
    "# filter out the important columns in the dataset\n",
    "stock_headlines = stock_headlines.filter(['Date', 'Headlines'])\n",
    "\n",
    "# set the Date column to the index column\n",
    "stock_headlines.set_index('Date', inplace=True)"
   ]
  },
  {
   "cell_type": "code",
   "execution_count": 22,
   "metadata": {
    "execution": {
     "iopub.execute_input": "2023-01-13T19:31:41.622131Z",
     "iopub.status.busy": "2023-01-13T19:31:41.621703Z",
     "iopub.status.idle": "2023-01-13T19:31:42.960173Z",
     "shell.execute_reply": "2023-01-13T19:31:42.958927Z",
     "shell.execute_reply.started": "2023-01-13T19:31:41.622096Z"
    }
   },
   "outputs": [],
   "source": [
    "#grouping the data by date column\n",
    "stock_headlines = stock_headlines.groupby(['Date'])['Headlines'].apply(lambda x:' '.join(x))"
   ]
  },
  {
   "cell_type": "markdown",
   "metadata": {},
   "source": [
    "Combining both the datasets"
   ]
  },
  {
   "cell_type": "code",
   "execution_count": 23,
   "metadata": {
    "execution": {
     "iopub.execute_input": "2023-01-13T19:31:45.128453Z",
     "iopub.status.busy": "2023-01-13T19:31:45.128077Z",
     "iopub.status.idle": "2023-01-13T19:31:45.142000Z",
     "shell.execute_reply": "2023-01-13T19:31:45.140785Z",
     "shell.execute_reply.started": "2023-01-13T19:31:45.128423Z"
    }
   },
   "outputs": [],
   "source": [
    "stock_data = pd.merge(stock_price, stock_headlines, left_index=True, right_index=True)"
   ]
  },
  {
   "cell_type": "code",
   "execution_count": 24,
   "metadata": {
    "execution": {
     "iopub.execute_input": "2023-01-13T19:31:46.218175Z",
     "iopub.status.busy": "2023-01-13T19:31:46.217718Z",
     "iopub.status.idle": "2023-01-13T19:31:46.241060Z",
     "shell.execute_reply": "2023-01-13T19:31:46.239748Z",
     "shell.execute_reply.started": "2023-01-13T19:31:46.218142Z"
    }
   },
   "outputs": [
    {
     "data": {
      "text/html": [
       "<div>\n",
       "<style scoped>\n",
       "    .dataframe tbody tr th:only-of-type {\n",
       "        vertical-align: middle;\n",
       "    }\n",
       "\n",
       "    .dataframe tbody tr th {\n",
       "        vertical-align: top;\n",
       "    }\n",
       "\n",
       "    .dataframe thead th {\n",
       "        text-align: right;\n",
       "    }\n",
       "</style>\n",
       "<table border=\"1\" class=\"dataframe\">\n",
       "  <thead>\n",
       "    <tr style=\"text-align: right;\">\n",
       "      <th></th>\n",
       "      <th>Close</th>\n",
       "      <th>Open</th>\n",
       "      <th>High</th>\n",
       "      <th>Low</th>\n",
       "      <th>Volume</th>\n",
       "      <th>Headlines</th>\n",
       "    </tr>\n",
       "    <tr>\n",
       "      <th>Date</th>\n",
       "      <th></th>\n",
       "      <th></th>\n",
       "      <th></th>\n",
       "      <th></th>\n",
       "      <th></th>\n",
       "      <th></th>\n",
       "    </tr>\n",
       "  </thead>\n",
       "  <tbody>\n",
       "    <tr>\n",
       "      <th>2021-01-04</th>\n",
       "      <td>243.256668</td>\n",
       "      <td>239.820007</td>\n",
       "      <td>248.163330</td>\n",
       "      <td>239.063339</td>\n",
       "      <td>145914600</td>\n",
       "      <td>Micro review: 'Ahalya's Awakening' by Kavita K...</td>\n",
       "    </tr>\n",
       "    <tr>\n",
       "      <th>2021-01-05</th>\n",
       "      <td>245.036667</td>\n",
       "      <td>241.220001</td>\n",
       "      <td>246.946671</td>\n",
       "      <td>239.733337</td>\n",
       "      <td>96735600</td>\n",
       "      <td>Numerology Readings 05 January 2021: Predictio...</td>\n",
       "    </tr>\n",
       "    <tr>\n",
       "      <th>2021-01-06</th>\n",
       "      <td>251.993332</td>\n",
       "      <td>252.830002</td>\n",
       "      <td>258.000000</td>\n",
       "      <td>249.699997</td>\n",
       "      <td>134100000</td>\n",
       "      <td>Will UP go for pro-tem chairmanin legislative ...</td>\n",
       "    </tr>\n",
       "    <tr>\n",
       "      <th>2021-01-07</th>\n",
       "      <td>272.013336</td>\n",
       "      <td>259.209991</td>\n",
       "      <td>272.329987</td>\n",
       "      <td>258.399994</td>\n",
       "      <td>154496700</td>\n",
       "      <td>Chasing the winter sun in Abu Dhabi Know why s...</td>\n",
       "    </tr>\n",
       "    <tr>\n",
       "      <th>2021-01-08</th>\n",
       "      <td>293.339996</td>\n",
       "      <td>285.333344</td>\n",
       "      <td>294.829987</td>\n",
       "      <td>279.463318</td>\n",
       "      <td>225166500</td>\n",
       "      <td>Infra push can help boost consumption CM Yogi ...</td>\n",
       "    </tr>\n",
       "    <tr>\n",
       "      <th>...</th>\n",
       "      <td>...</td>\n",
       "      <td>...</td>\n",
       "      <td>...</td>\n",
       "      <td>...</td>\n",
       "      <td>...</td>\n",
       "      <td>...</td>\n",
       "    </tr>\n",
       "    <tr>\n",
       "      <th>2022-03-25</th>\n",
       "      <td>336.880005</td>\n",
       "      <td>336.000000</td>\n",
       "      <td>340.600006</td>\n",
       "      <td>332.440002</td>\n",
       "      <td>62031600</td>\n",
       "      <td>Speeding up; shortcuts and tackling unruly cus...</td>\n",
       "    </tr>\n",
       "    <tr>\n",
       "      <th>2022-03-28</th>\n",
       "      <td>363.946655</td>\n",
       "      <td>355.033325</td>\n",
       "      <td>365.959991</td>\n",
       "      <td>351.200012</td>\n",
       "      <td>102506100</td>\n",
       "      <td>As fashion becomes democratic; demand for styl...</td>\n",
       "    </tr>\n",
       "    <tr>\n",
       "      <th>2022-03-29</th>\n",
       "      <td>366.523346</td>\n",
       "      <td>369.329987</td>\n",
       "      <td>371.589996</td>\n",
       "      <td>357.703339</td>\n",
       "      <td>73614900</td>\n",
       "      <td>Bobby Deol: Like my dad; I hope to be working ...</td>\n",
       "    </tr>\n",
       "    <tr>\n",
       "      <th>2022-03-30</th>\n",
       "      <td>364.663330</td>\n",
       "      <td>363.723328</td>\n",
       "      <td>371.316681</td>\n",
       "      <td>361.333344</td>\n",
       "      <td>59865000</td>\n",
       "      <td>I will not give in to trends: Dossmode The tim...</td>\n",
       "    </tr>\n",
       "    <tr>\n",
       "      <th>2022-03-31</th>\n",
       "      <td>359.200012</td>\n",
       "      <td>364.856659</td>\n",
       "      <td>367.713318</td>\n",
       "      <td>358.880005</td>\n",
       "      <td>48992700</td>\n",
       "      <td>Shashank goes back to coastal Karnataka and Mo...</td>\n",
       "    </tr>\n",
       "  </tbody>\n",
       "</table>\n",
       "<p>314 rows × 6 columns</p>\n",
       "</div>"
      ],
      "text/plain": [
       "                 Close        Open        High         Low     Volume  \\\n",
       "Date                                                                    \n",
       "2021-01-04  243.256668  239.820007  248.163330  239.063339  145914600   \n",
       "2021-01-05  245.036667  241.220001  246.946671  239.733337   96735600   \n",
       "2021-01-06  251.993332  252.830002  258.000000  249.699997  134100000   \n",
       "2021-01-07  272.013336  259.209991  272.329987  258.399994  154496700   \n",
       "2021-01-08  293.339996  285.333344  294.829987  279.463318  225166500   \n",
       "...                ...         ...         ...         ...        ...   \n",
       "2022-03-25  336.880005  336.000000  340.600006  332.440002   62031600   \n",
       "2022-03-28  363.946655  355.033325  365.959991  351.200012  102506100   \n",
       "2022-03-29  366.523346  369.329987  371.589996  357.703339   73614900   \n",
       "2022-03-30  364.663330  363.723328  371.316681  361.333344   59865000   \n",
       "2022-03-31  359.200012  364.856659  367.713318  358.880005   48992700   \n",
       "\n",
       "                                                    Headlines  \n",
       "Date                                                           \n",
       "2021-01-04  Micro review: 'Ahalya's Awakening' by Kavita K...  \n",
       "2021-01-05  Numerology Readings 05 January 2021: Predictio...  \n",
       "2021-01-06  Will UP go for pro-tem chairmanin legislative ...  \n",
       "2021-01-07  Chasing the winter sun in Abu Dhabi Know why s...  \n",
       "2021-01-08  Infra push can help boost consumption CM Yogi ...  \n",
       "...                                                       ...  \n",
       "2022-03-25  Speeding up; shortcuts and tackling unruly cus...  \n",
       "2022-03-28  As fashion becomes democratic; demand for styl...  \n",
       "2022-03-29  Bobby Deol: Like my dad; I hope to be working ...  \n",
       "2022-03-30  I will not give in to trends: Dossmode The tim...  \n",
       "2022-03-31  Shashank goes back to coastal Karnataka and Mo...  \n",
       "\n",
       "[314 rows x 6 columns]"
      ]
     },
     "execution_count": 24,
     "metadata": {},
     "output_type": "execute_result"
    }
   ],
   "source": [
    "stock_data"
   ]
  },
  {
   "cell_type": "markdown",
   "metadata": {},
   "source": [
    "NLP: Removing Punctuations"
   ]
  },
  {
   "cell_type": "code",
   "execution_count": 25,
   "metadata": {
    "execution": {
     "iopub.execute_input": "2023-01-13T19:32:03.652342Z",
     "iopub.status.busy": "2023-01-13T19:32:03.651922Z",
     "iopub.status.idle": "2023-01-13T19:32:04.797120Z",
     "shell.execute_reply": "2023-01-13T19:32:04.795923Z",
     "shell.execute_reply.started": "2023-01-13T19:32:03.652308Z"
    }
   },
   "outputs": [],
   "source": [
    "import string\n",
    "def remove_punctuation(text):\n",
    "    no_punct=[words for words in text if words not in string.punctuation]\n",
    "    words_wo_punct=''.join(no_punct)\n",
    "    return words_wo_punct\n",
    "stock_data['Headlines_wo_punc']=stock_data['Headlines'].apply(lambda x: remove_punctuation(x))"
   ]
  },
  {
   "cell_type": "markdown",
   "metadata": {},
   "source": [
    "Convert to lower_case and remove extra spacing"
   ]
  },
  {
   "cell_type": "code",
   "execution_count": 26,
   "metadata": {
    "execution": {
     "iopub.execute_input": "2023-01-13T19:32:14.902401Z",
     "iopub.status.busy": "2023-01-13T19:32:14.901958Z",
     "iopub.status.idle": "2023-01-13T19:32:15.421917Z",
     "shell.execute_reply": "2023-01-13T19:32:15.420914Z",
     "shell.execute_reply.started": "2023-01-13T19:32:14.902365Z"
    }
   },
   "outputs": [],
   "source": [
    "stock_data['Headlines_wo_punc'] = stock_data['Headlines_wo_punc'].apply(str.lower)\n",
    "stock_data['Headlines_wo_punc'] = stock_data['Headlines_wo_punc'].replace(r'\\s+', ' ', regex=True)\n"
   ]
  },
  {
   "cell_type": "code",
   "execution_count": 27,
   "metadata": {
    "execution": {
     "iopub.execute_input": "2023-01-13T19:32:18.001260Z",
     "iopub.status.busy": "2023-01-13T19:32:18.000861Z",
     "iopub.status.idle": "2023-01-13T19:32:18.012382Z",
     "shell.execute_reply": "2023-01-13T19:32:18.011411Z",
     "shell.execute_reply.started": "2023-01-13T19:32:18.001226Z"
    }
   },
   "outputs": [
    {
     "name": "stdout",
     "output_type": "stream",
     "text": [
      "['i', 'me', 'my', 'myself', 'we', 'our', 'ours', 'ourselves', 'you', \"you're\", \"you've\"]\n"
     ]
    }
   ],
   "source": [
    "stopword = nltk.corpus.stopwords.words('english')\n",
    "print(stopword[:11])"
   ]
  },
  {
   "cell_type": "markdown",
   "metadata": {},
   "source": [
    "NLP: Removing Stopwords"
   ]
  },
  {
   "cell_type": "code",
   "execution_count": 28,
   "metadata": {
    "execution": {
     "iopub.execute_input": "2023-01-13T19:32:25.712219Z",
     "iopub.status.busy": "2023-01-13T19:32:25.711306Z",
     "iopub.status.idle": "2023-01-13T19:32:34.616484Z",
     "shell.execute_reply": "2023-01-13T19:32:34.615234Z",
     "shell.execute_reply.started": "2023-01-13T19:32:25.712171Z"
    }
   },
   "outputs": [],
   "source": [
    "def remove_stopwords(text):\n",
    "    text = nltk.word_tokenize(text)\n",
    "    text=[word for word in text if word not in stopword]\n",
    "    return text\n",
    "stock_data['Headlines_wo_punc_stopwords']=stock_data['Headlines_wo_punc'].apply(lambda x: remove_stopwords(x))\n",
    "\n"
   ]
  },
  {
   "cell_type": "markdown",
   "metadata": {},
   "source": [
    "NLP: Lemmatizing"
   ]
  },
  {
   "cell_type": "code",
   "execution_count": 29,
   "metadata": {
    "execution": {
     "iopub.execute_input": "2023-01-13T19:32:37.700643Z",
     "iopub.status.busy": "2023-01-13T19:32:37.700232Z",
     "iopub.status.idle": "2023-01-13T19:32:45.507217Z",
     "shell.execute_reply": "2023-01-13T19:32:45.505968Z",
     "shell.execute_reply.started": "2023-01-13T19:32:37.700609Z"
    }
   },
   "outputs": [],
   "source": [
    "import nltk\n",
    "\n",
    "lemmatizer = nltk.stem.WordNetLemmatizer()\n",
    "\n",
    "def lemmatize_text(tokens):\n",
    "    lemmatized_tokens = [lemmatizer.lemmatize(text) for text in tokens]\n",
    "    return ' '.join(lemmatized_tokens)\n",
    "\n",
    "stock_data['Headlines_wo_punc_stopwords_lemmatized']=stock_data['Headlines_wo_punc_stopwords'].apply(lemmatize_text)"
   ]
  },
  {
   "cell_type": "markdown",
   "metadata": {},
   "source": [
    "Remove irrelevant features"
   ]
  },
  {
   "cell_type": "code",
   "execution_count": 30,
   "metadata": {
    "execution": {
     "iopub.execute_input": "2023-01-13T19:33:06.206384Z",
     "iopub.status.busy": "2023-01-13T19:33:06.205945Z",
     "iopub.status.idle": "2023-01-13T19:33:06.213095Z",
     "shell.execute_reply": "2023-01-13T19:33:06.212067Z",
     "shell.execute_reply.started": "2023-01-13T19:33:06.206351Z"
    }
   },
   "outputs": [],
   "source": [
    "stock_data = stock_data.filter(['Close', 'Open', 'High', 'Low', 'Headlines_wo_punc_stopwords_lemmatized'])"
   ]
  },
  {
   "cell_type": "code",
   "execution_count": 31,
   "metadata": {
    "execution": {
     "iopub.execute_input": "2023-01-13T19:33:07.671561Z",
     "iopub.status.busy": "2023-01-13T19:33:07.671152Z",
     "iopub.status.idle": "2023-01-13T19:33:07.677153Z",
     "shell.execute_reply": "2023-01-13T19:33:07.675814Z",
     "shell.execute_reply.started": "2023-01-13T19:33:07.671527Z"
    }
   },
   "outputs": [],
   "source": [
    "stock_data.rename(columns = {'Headlines_wo_punc_stopwords_lemmatized':'headlines'}, inplace = True)"
   ]
  },
  {
   "cell_type": "markdown",
   "metadata": {},
   "source": [
    "Removing numerical values from the news headlines"
   ]
  },
  {
   "cell_type": "code",
   "execution_count": 32,
   "metadata": {
    "execution": {
     "iopub.execute_input": "2023-01-13T19:33:08.848762Z",
     "iopub.status.busy": "2023-01-13T19:33:08.848334Z",
     "iopub.status.idle": "2023-01-13T19:33:09.015879Z",
     "shell.execute_reply": "2023-01-13T19:33:09.014861Z",
     "shell.execute_reply.started": "2023-01-13T19:33:08.848710Z"
    }
   },
   "outputs": [
    {
     "name": "stderr",
     "output_type": "stream",
     "text": [
      "/opt/conda/lib/python3.7/site-packages/ipykernel_launcher.py:1: FutureWarning: The default value of regex will change from True to False in a future version.\n",
      "  \"\"\"Entry point for launching an IPython kernel.\n"
     ]
    }
   ],
   "source": [
    "stock_data['headlines'] = stock_data['headlines'].str.replace('\\d+','None')"
   ]
  },
  {
   "cell_type": "markdown",
   "metadata": {},
   "source": [
    "Sentiment Analysis on News Headlines"
   ]
  },
  {
   "cell_type": "code",
   "execution_count": 33,
   "metadata": {
    "execution": {
     "iopub.execute_input": "2023-01-13T19:33:12.534071Z",
     "iopub.status.busy": "2023-01-13T19:33:12.533650Z",
     "iopub.status.idle": "2023-01-13T19:33:12.539750Z",
     "shell.execute_reply": "2023-01-13T19:33:12.538952Z",
     "shell.execute_reply.started": "2023-01-13T19:33:12.534037Z"
    }
   },
   "outputs": [],
   "source": [
    "def getSubjectivity(text):\n",
    "    return TextBlob(text).sentiment.subjectivity\n",
    "\n",
    "def getPolarity(text):\n",
    "    return  TextBlob(text).sentiment.polarity"
   ]
  },
  {
   "cell_type": "code",
   "execution_count": 34,
   "metadata": {
    "execution": {
     "iopub.execute_input": "2023-01-13T19:33:15.442362Z",
     "iopub.status.busy": "2023-01-13T19:33:15.441919Z",
     "iopub.status.idle": "2023-01-13T19:33:27.268598Z",
     "shell.execute_reply": "2023-01-13T19:33:27.267523Z",
     "shell.execute_reply.started": "2023-01-13T19:33:15.442326Z"
    }
   },
   "outputs": [
    {
     "data": {
      "text/html": [
       "<div>\n",
       "<style scoped>\n",
       "    .dataframe tbody tr th:only-of-type {\n",
       "        vertical-align: middle;\n",
       "    }\n",
       "\n",
       "    .dataframe tbody tr th {\n",
       "        vertical-align: top;\n",
       "    }\n",
       "\n",
       "    .dataframe thead th {\n",
       "        text-align: right;\n",
       "    }\n",
       "</style>\n",
       "<table border=\"1\" class=\"dataframe\">\n",
       "  <thead>\n",
       "    <tr style=\"text-align: right;\">\n",
       "      <th></th>\n",
       "      <th>Close</th>\n",
       "      <th>Open</th>\n",
       "      <th>High</th>\n",
       "      <th>Low</th>\n",
       "      <th>headlines</th>\n",
       "      <th>Subjectivity</th>\n",
       "      <th>Polarity</th>\n",
       "    </tr>\n",
       "    <tr>\n",
       "      <th>Date</th>\n",
       "      <th></th>\n",
       "      <th></th>\n",
       "      <th></th>\n",
       "      <th></th>\n",
       "      <th></th>\n",
       "      <th></th>\n",
       "      <th></th>\n",
       "    </tr>\n",
       "  </thead>\n",
       "  <tbody>\n",
       "    <tr>\n",
       "      <th>2021-01-04</th>\n",
       "      <td>243.256668</td>\n",
       "      <td>239.820007</td>\n",
       "      <td>248.163330</td>\n",
       "      <td>239.063339</td>\n",
       "      <td>micro review ahalyas awakening kavita kane hor...</td>\n",
       "      <td>0.396072</td>\n",
       "      <td>0.025513</td>\n",
       "    </tr>\n",
       "    <tr>\n",
       "      <th>2021-01-05</th>\n",
       "      <td>245.036667</td>\n",
       "      <td>241.220001</td>\n",
       "      <td>246.946671</td>\n",
       "      <td>239.733337</td>\n",
       "      <td>numerology reading None january None predictio...</td>\n",
       "      <td>0.424583</td>\n",
       "      <td>0.044320</td>\n",
       "    </tr>\n",
       "    <tr>\n",
       "      <th>2021-01-06</th>\n",
       "      <td>251.993332</td>\n",
       "      <td>252.830002</td>\n",
       "      <td>258.000000</td>\n",
       "      <td>249.699997</td>\n",
       "      <td>go protem chairmanin legislative council till ...</td>\n",
       "      <td>0.380731</td>\n",
       "      <td>0.040673</td>\n",
       "    </tr>\n",
       "    <tr>\n",
       "      <th>2021-01-07</th>\n",
       "      <td>272.013336</td>\n",
       "      <td>259.209991</td>\n",
       "      <td>272.329987</td>\n",
       "      <td>258.399994</td>\n",
       "      <td>chasing winter sun abu dhabi know scheduling s...</td>\n",
       "      <td>0.383995</td>\n",
       "      <td>0.029987</td>\n",
       "    </tr>\n",
       "    <tr>\n",
       "      <th>2021-01-08</th>\n",
       "      <td>293.339996</td>\n",
       "      <td>285.333344</td>\n",
       "      <td>294.829987</td>\n",
       "      <td>279.463318</td>\n",
       "      <td>infra push help boost consumption cm yogi adit...</td>\n",
       "      <td>0.387548</td>\n",
       "      <td>0.028130</td>\n",
       "    </tr>\n",
       "    <tr>\n",
       "      <th>...</th>\n",
       "      <td>...</td>\n",
       "      <td>...</td>\n",
       "      <td>...</td>\n",
       "      <td>...</td>\n",
       "      <td>...</td>\n",
       "      <td>...</td>\n",
       "      <td>...</td>\n",
       "    </tr>\n",
       "    <tr>\n",
       "      <th>2022-03-25</th>\n",
       "      <td>336.880005</td>\n",
       "      <td>336.000000</td>\n",
       "      <td>340.600006</td>\n",
       "      <td>332.440002</td>\n",
       "      <td>speeding shortcut tackling unruly customer tak...</td>\n",
       "      <td>0.361027</td>\n",
       "      <td>-0.031576</td>\n",
       "    </tr>\n",
       "    <tr>\n",
       "      <th>2022-03-28</th>\n",
       "      <td>363.946655</td>\n",
       "      <td>355.033325</td>\n",
       "      <td>365.959991</td>\n",
       "      <td>351.200012</td>\n",
       "      <td>fashion becomes democratic demand stylist soar...</td>\n",
       "      <td>0.381832</td>\n",
       "      <td>0.045706</td>\n",
       "    </tr>\n",
       "    <tr>\n",
       "      <th>2022-03-29</th>\n",
       "      <td>366.523346</td>\n",
       "      <td>369.329987</td>\n",
       "      <td>371.589996</td>\n",
       "      <td>357.703339</td>\n",
       "      <td>bobby deol like dad hope working age yashas su...</td>\n",
       "      <td>0.393464</td>\n",
       "      <td>0.087860</td>\n",
       "    </tr>\n",
       "    <tr>\n",
       "      <th>2022-03-30</th>\n",
       "      <td>364.663330</td>\n",
       "      <td>363.723328</td>\n",
       "      <td>371.316681</td>\n",
       "      <td>361.333344</td>\n",
       "      <td>give trend dossmode time gave boyfriend incred...</td>\n",
       "      <td>0.342415</td>\n",
       "      <td>0.019776</td>\n",
       "    </tr>\n",
       "    <tr>\n",
       "      <th>2022-03-31</th>\n",
       "      <td>359.200012</td>\n",
       "      <td>364.856659</td>\n",
       "      <td>367.713318</td>\n",
       "      <td>358.880005</td>\n",
       "      <td>shashank go back coastal karnataka moggina man...</td>\n",
       "      <td>0.333139</td>\n",
       "      <td>0.029876</td>\n",
       "    </tr>\n",
       "  </tbody>\n",
       "</table>\n",
       "<p>314 rows × 7 columns</p>\n",
       "</div>"
      ],
      "text/plain": [
       "                 Close        Open        High         Low  \\\n",
       "Date                                                         \n",
       "2021-01-04  243.256668  239.820007  248.163330  239.063339   \n",
       "2021-01-05  245.036667  241.220001  246.946671  239.733337   \n",
       "2021-01-06  251.993332  252.830002  258.000000  249.699997   \n",
       "2021-01-07  272.013336  259.209991  272.329987  258.399994   \n",
       "2021-01-08  293.339996  285.333344  294.829987  279.463318   \n",
       "...                ...         ...         ...         ...   \n",
       "2022-03-25  336.880005  336.000000  340.600006  332.440002   \n",
       "2022-03-28  363.946655  355.033325  365.959991  351.200012   \n",
       "2022-03-29  366.523346  369.329987  371.589996  357.703339   \n",
       "2022-03-30  364.663330  363.723328  371.316681  361.333344   \n",
       "2022-03-31  359.200012  364.856659  367.713318  358.880005   \n",
       "\n",
       "                                                    headlines  Subjectivity  \\\n",
       "Date                                                                          \n",
       "2021-01-04  micro review ahalyas awakening kavita kane hor...      0.396072   \n",
       "2021-01-05  numerology reading None january None predictio...      0.424583   \n",
       "2021-01-06  go protem chairmanin legislative council till ...      0.380731   \n",
       "2021-01-07  chasing winter sun abu dhabi know scheduling s...      0.383995   \n",
       "2021-01-08  infra push help boost consumption cm yogi adit...      0.387548   \n",
       "...                                                       ...           ...   \n",
       "2022-03-25  speeding shortcut tackling unruly customer tak...      0.361027   \n",
       "2022-03-28  fashion becomes democratic demand stylist soar...      0.381832   \n",
       "2022-03-29  bobby deol like dad hope working age yashas su...      0.393464   \n",
       "2022-03-30  give trend dossmode time gave boyfriend incred...      0.342415   \n",
       "2022-03-31  shashank go back coastal karnataka moggina man...      0.333139   \n",
       "\n",
       "            Polarity  \n",
       "Date                  \n",
       "2021-01-04  0.025513  \n",
       "2021-01-05  0.044320  \n",
       "2021-01-06  0.040673  \n",
       "2021-01-07  0.029987  \n",
       "2021-01-08  0.028130  \n",
       "...              ...  \n",
       "2022-03-25 -0.031576  \n",
       "2022-03-28  0.045706  \n",
       "2022-03-29  0.087860  \n",
       "2022-03-30  0.019776  \n",
       "2022-03-31  0.029876  \n",
       "\n",
       "[314 rows x 7 columns]"
      ]
     },
     "execution_count": 34,
     "metadata": {},
     "output_type": "execute_result"
    }
   ],
   "source": [
    "stock_data['Subjectivity'] = stock_data['headlines'].apply(getSubjectivity)\n",
    "stock_data['Polarity'] = stock_data['headlines'].apply(getPolarity)\n",
    "stock_data\n",
    "     "
   ]
  },
  {
   "cell_type": "code",
   "execution_count": 36,
   "metadata": {
    "execution": {
     "iopub.execute_input": "2023-01-13T19:33:48.111127Z",
     "iopub.status.busy": "2023-01-13T19:33:48.110725Z",
     "iopub.status.idle": "2023-01-13T19:40:14.681307Z",
     "shell.execute_reply": "2023-01-13T19:40:14.680131Z",
     "shell.execute_reply.started": "2023-01-13T19:33:48.111097Z"
    }
   },
   "outputs": [],
   "source": [
    "sia = SentimentIntensityAnalyzer()\n",
    "\n",
    "stock_data['Compound'] = [sia.polarity_scores(v)['compound'] for v in stock_data['headlines']]"
   ]
  },
  {
   "cell_type": "code",
   "execution_count": 37,
   "metadata": {
    "execution": {
     "iopub.execute_input": "2023-01-13T19:40:30.936440Z",
     "iopub.status.busy": "2023-01-13T19:40:30.936015Z",
     "iopub.status.idle": "2023-01-13T19:47:01.045668Z",
     "shell.execute_reply": "2023-01-13T19:47:01.044801Z",
     "shell.execute_reply.started": "2023-01-13T19:40:30.936403Z"
    }
   },
   "outputs": [],
   "source": [
    "stock_data['Negative'] = [sia.polarity_scores(v)['neg'] for v in stock_data['headlines']]"
   ]
  },
  {
   "cell_type": "code",
   "execution_count": 38,
   "metadata": {
    "execution": {
     "iopub.execute_input": "2023-01-13T19:47:15.811770Z",
     "iopub.status.busy": "2023-01-13T19:47:15.811339Z",
     "iopub.status.idle": "2023-01-13T19:53:37.775403Z",
     "shell.execute_reply": "2023-01-13T19:53:37.774225Z",
     "shell.execute_reply.started": "2023-01-13T19:47:15.811723Z"
    }
   },
   "outputs": [],
   "source": [
    "stock_data['Neutral'] = [sia.polarity_scores(v)['neu'] for v in stock_data['headlines']]\n"
   ]
  },
  {
   "cell_type": "code",
   "execution_count": 39,
   "metadata": {
    "execution": {
     "iopub.execute_input": "2023-01-13T20:21:04.547464Z",
     "iopub.status.busy": "2023-01-13T20:21:04.546574Z",
     "iopub.status.idle": "2023-01-13T20:27:26.018280Z",
     "shell.execute_reply": "2023-01-13T20:27:26.017137Z",
     "shell.execute_reply.started": "2023-01-13T20:21:04.547425Z"
    }
   },
   "outputs": [
    {
     "data": {
      "text/html": [
       "<div>\n",
       "<style scoped>\n",
       "    .dataframe tbody tr th:only-of-type {\n",
       "        vertical-align: middle;\n",
       "    }\n",
       "\n",
       "    .dataframe tbody tr th {\n",
       "        vertical-align: top;\n",
       "    }\n",
       "\n",
       "    .dataframe thead th {\n",
       "        text-align: right;\n",
       "    }\n",
       "</style>\n",
       "<table border=\"1\" class=\"dataframe\">\n",
       "  <thead>\n",
       "    <tr style=\"text-align: right;\">\n",
       "      <th></th>\n",
       "      <th>Close</th>\n",
       "      <th>Open</th>\n",
       "      <th>High</th>\n",
       "      <th>Low</th>\n",
       "      <th>headlines</th>\n",
       "      <th>Subjectivity</th>\n",
       "      <th>Polarity</th>\n",
       "      <th>Compound</th>\n",
       "      <th>Negative</th>\n",
       "      <th>Neutral</th>\n",
       "      <th>Positive</th>\n",
       "    </tr>\n",
       "    <tr>\n",
       "      <th>Date</th>\n",
       "      <th></th>\n",
       "      <th></th>\n",
       "      <th></th>\n",
       "      <th></th>\n",
       "      <th></th>\n",
       "      <th></th>\n",
       "      <th></th>\n",
       "      <th></th>\n",
       "      <th></th>\n",
       "      <th></th>\n",
       "      <th></th>\n",
       "    </tr>\n",
       "  </thead>\n",
       "  <tbody>\n",
       "    <tr>\n",
       "      <th>2021-01-04</th>\n",
       "      <td>243.256668</td>\n",
       "      <td>239.820007</td>\n",
       "      <td>248.163330</td>\n",
       "      <td>239.063339</td>\n",
       "      <td>micro review ahalyas awakening kavita kane hor...</td>\n",
       "      <td>0.396072</td>\n",
       "      <td>0.025513</td>\n",
       "      <td>-0.9996</td>\n",
       "      <td>0.149</td>\n",
       "      <td>0.747</td>\n",
       "      <td>0.104</td>\n",
       "    </tr>\n",
       "    <tr>\n",
       "      <th>2021-01-05</th>\n",
       "      <td>245.036667</td>\n",
       "      <td>241.220001</td>\n",
       "      <td>246.946671</td>\n",
       "      <td>239.733337</td>\n",
       "      <td>numerology reading None january None predictio...</td>\n",
       "      <td>0.424583</td>\n",
       "      <td>0.044320</td>\n",
       "      <td>-0.9987</td>\n",
       "      <td>0.135</td>\n",
       "      <td>0.752</td>\n",
       "      <td>0.113</td>\n",
       "    </tr>\n",
       "    <tr>\n",
       "      <th>2021-01-06</th>\n",
       "      <td>251.993332</td>\n",
       "      <td>252.830002</td>\n",
       "      <td>258.000000</td>\n",
       "      <td>249.699997</td>\n",
       "      <td>go protem chairmanin legislative council till ...</td>\n",
       "      <td>0.380731</td>\n",
       "      <td>0.040673</td>\n",
       "      <td>-0.9996</td>\n",
       "      <td>0.144</td>\n",
       "      <td>0.754</td>\n",
       "      <td>0.102</td>\n",
       "    </tr>\n",
       "    <tr>\n",
       "      <th>2021-01-07</th>\n",
       "      <td>272.013336</td>\n",
       "      <td>259.209991</td>\n",
       "      <td>272.329987</td>\n",
       "      <td>258.399994</td>\n",
       "      <td>chasing winter sun abu dhabi know scheduling s...</td>\n",
       "      <td>0.383995</td>\n",
       "      <td>0.029987</td>\n",
       "      <td>-0.9996</td>\n",
       "      <td>0.139</td>\n",
       "      <td>0.768</td>\n",
       "      <td>0.093</td>\n",
       "    </tr>\n",
       "    <tr>\n",
       "      <th>2021-01-08</th>\n",
       "      <td>293.339996</td>\n",
       "      <td>285.333344</td>\n",
       "      <td>294.829987</td>\n",
       "      <td>279.463318</td>\n",
       "      <td>infra push help boost consumption cm yogi adit...</td>\n",
       "      <td>0.387548</td>\n",
       "      <td>0.028130</td>\n",
       "      <td>-0.9999</td>\n",
       "      <td>0.180</td>\n",
       "      <td>0.736</td>\n",
       "      <td>0.084</td>\n",
       "    </tr>\n",
       "    <tr>\n",
       "      <th>...</th>\n",
       "      <td>...</td>\n",
       "      <td>...</td>\n",
       "      <td>...</td>\n",
       "      <td>...</td>\n",
       "      <td>...</td>\n",
       "      <td>...</td>\n",
       "      <td>...</td>\n",
       "      <td>...</td>\n",
       "      <td>...</td>\n",
       "      <td>...</td>\n",
       "      <td>...</td>\n",
       "    </tr>\n",
       "    <tr>\n",
       "      <th>2022-03-25</th>\n",
       "      <td>336.880005</td>\n",
       "      <td>336.000000</td>\n",
       "      <td>340.600006</td>\n",
       "      <td>332.440002</td>\n",
       "      <td>speeding shortcut tackling unruly customer tak...</td>\n",
       "      <td>0.361027</td>\n",
       "      <td>-0.031576</td>\n",
       "      <td>-0.9998</td>\n",
       "      <td>0.155</td>\n",
       "      <td>0.750</td>\n",
       "      <td>0.095</td>\n",
       "    </tr>\n",
       "    <tr>\n",
       "      <th>2022-03-28</th>\n",
       "      <td>363.946655</td>\n",
       "      <td>355.033325</td>\n",
       "      <td>365.959991</td>\n",
       "      <td>351.200012</td>\n",
       "      <td>fashion becomes democratic demand stylist soar...</td>\n",
       "      <td>0.381832</td>\n",
       "      <td>0.045706</td>\n",
       "      <td>-0.9994</td>\n",
       "      <td>0.144</td>\n",
       "      <td>0.742</td>\n",
       "      <td>0.114</td>\n",
       "    </tr>\n",
       "    <tr>\n",
       "      <th>2022-03-29</th>\n",
       "      <td>366.523346</td>\n",
       "      <td>369.329987</td>\n",
       "      <td>371.589996</td>\n",
       "      <td>357.703339</td>\n",
       "      <td>bobby deol like dad hope working age yashas su...</td>\n",
       "      <td>0.393464</td>\n",
       "      <td>0.087860</td>\n",
       "      <td>-0.9996</td>\n",
       "      <td>0.136</td>\n",
       "      <td>0.774</td>\n",
       "      <td>0.091</td>\n",
       "    </tr>\n",
       "    <tr>\n",
       "      <th>2022-03-30</th>\n",
       "      <td>364.663330</td>\n",
       "      <td>363.723328</td>\n",
       "      <td>371.316681</td>\n",
       "      <td>361.333344</td>\n",
       "      <td>give trend dossmode time gave boyfriend incred...</td>\n",
       "      <td>0.342415</td>\n",
       "      <td>0.019776</td>\n",
       "      <td>-0.9993</td>\n",
       "      <td>0.138</td>\n",
       "      <td>0.759</td>\n",
       "      <td>0.103</td>\n",
       "    </tr>\n",
       "    <tr>\n",
       "      <th>2022-03-31</th>\n",
       "      <td>359.200012</td>\n",
       "      <td>364.856659</td>\n",
       "      <td>367.713318</td>\n",
       "      <td>358.880005</td>\n",
       "      <td>shashank go back coastal karnataka moggina man...</td>\n",
       "      <td>0.333139</td>\n",
       "      <td>0.029876</td>\n",
       "      <td>-0.9996</td>\n",
       "      <td>0.133</td>\n",
       "      <td>0.780</td>\n",
       "      <td>0.087</td>\n",
       "    </tr>\n",
       "  </tbody>\n",
       "</table>\n",
       "<p>314 rows × 11 columns</p>\n",
       "</div>"
      ],
      "text/plain": [
       "                 Close        Open        High         Low  \\\n",
       "Date                                                         \n",
       "2021-01-04  243.256668  239.820007  248.163330  239.063339   \n",
       "2021-01-05  245.036667  241.220001  246.946671  239.733337   \n",
       "2021-01-06  251.993332  252.830002  258.000000  249.699997   \n",
       "2021-01-07  272.013336  259.209991  272.329987  258.399994   \n",
       "2021-01-08  293.339996  285.333344  294.829987  279.463318   \n",
       "...                ...         ...         ...         ...   \n",
       "2022-03-25  336.880005  336.000000  340.600006  332.440002   \n",
       "2022-03-28  363.946655  355.033325  365.959991  351.200012   \n",
       "2022-03-29  366.523346  369.329987  371.589996  357.703339   \n",
       "2022-03-30  364.663330  363.723328  371.316681  361.333344   \n",
       "2022-03-31  359.200012  364.856659  367.713318  358.880005   \n",
       "\n",
       "                                                    headlines  Subjectivity  \\\n",
       "Date                                                                          \n",
       "2021-01-04  micro review ahalyas awakening kavita kane hor...      0.396072   \n",
       "2021-01-05  numerology reading None january None predictio...      0.424583   \n",
       "2021-01-06  go protem chairmanin legislative council till ...      0.380731   \n",
       "2021-01-07  chasing winter sun abu dhabi know scheduling s...      0.383995   \n",
       "2021-01-08  infra push help boost consumption cm yogi adit...      0.387548   \n",
       "...                                                       ...           ...   \n",
       "2022-03-25  speeding shortcut tackling unruly customer tak...      0.361027   \n",
       "2022-03-28  fashion becomes democratic demand stylist soar...      0.381832   \n",
       "2022-03-29  bobby deol like dad hope working age yashas su...      0.393464   \n",
       "2022-03-30  give trend dossmode time gave boyfriend incred...      0.342415   \n",
       "2022-03-31  shashank go back coastal karnataka moggina man...      0.333139   \n",
       "\n",
       "            Polarity  Compound  Negative  Neutral  Positive  \n",
       "Date                                                         \n",
       "2021-01-04  0.025513   -0.9996     0.149    0.747     0.104  \n",
       "2021-01-05  0.044320   -0.9987     0.135    0.752     0.113  \n",
       "2021-01-06  0.040673   -0.9996     0.144    0.754     0.102  \n",
       "2021-01-07  0.029987   -0.9996     0.139    0.768     0.093  \n",
       "2021-01-08  0.028130   -0.9999     0.180    0.736     0.084  \n",
       "...              ...       ...       ...      ...       ...  \n",
       "2022-03-25 -0.031576   -0.9998     0.155    0.750     0.095  \n",
       "2022-03-28  0.045706   -0.9994     0.144    0.742     0.114  \n",
       "2022-03-29  0.087860   -0.9996     0.136    0.774     0.091  \n",
       "2022-03-30  0.019776   -0.9993     0.138    0.759     0.103  \n",
       "2022-03-31  0.029876   -0.9996     0.133    0.780     0.087  \n",
       "\n",
       "[314 rows x 11 columns]"
      ]
     },
     "execution_count": 39,
     "metadata": {},
     "output_type": "execute_result"
    }
   ],
   "source": [
    "stock_data['Positive'] = [sia.polarity_scores(v)['pos'] for v in stock_data['headlines']]\n",
    "stock_data"
   ]
  },
  {
   "cell_type": "markdown",
   "metadata": {},
   "source": [
    "Exploratory Data Analysis"
   ]
  },
  {
   "cell_type": "code",
   "execution_count": 42,
   "metadata": {
    "execution": {
     "iopub.execute_input": "2023-01-13T20:30:52.547385Z",
     "iopub.status.busy": "2023-01-13T20:30:52.546976Z",
     "iopub.status.idle": "2023-01-13T20:30:52.590008Z",
     "shell.execute_reply": "2023-01-13T20:30:52.588838Z",
     "shell.execute_reply.started": "2023-01-13T20:30:52.547350Z"
    }
   },
   "outputs": [
    {
     "data": {
      "text/html": [
       "<div>\n",
       "<style scoped>\n",
       "    .dataframe tbody tr th:only-of-type {\n",
       "        vertical-align: middle;\n",
       "    }\n",
       "\n",
       "    .dataframe tbody tr th {\n",
       "        vertical-align: top;\n",
       "    }\n",
       "\n",
       "    .dataframe thead th {\n",
       "        text-align: right;\n",
       "    }\n",
       "</style>\n",
       "<table border=\"1\" class=\"dataframe\">\n",
       "  <thead>\n",
       "    <tr style=\"text-align: right;\">\n",
       "      <th></th>\n",
       "      <th>Close</th>\n",
       "      <th>Open</th>\n",
       "      <th>High</th>\n",
       "      <th>Low</th>\n",
       "      <th>Subjectivity</th>\n",
       "      <th>Polarity</th>\n",
       "      <th>Compound</th>\n",
       "      <th>Negative</th>\n",
       "      <th>Neutral</th>\n",
       "      <th>Positive</th>\n",
       "    </tr>\n",
       "  </thead>\n",
       "  <tbody>\n",
       "    <tr>\n",
       "      <th>count</th>\n",
       "      <td>314.000000</td>\n",
       "      <td>314.000000</td>\n",
       "      <td>314.000000</td>\n",
       "      <td>314.000000</td>\n",
       "      <td>314.000000</td>\n",
       "      <td>314.000000</td>\n",
       "      <td>314.000000</td>\n",
       "      <td>314.000000</td>\n",
       "      <td>314.000000</td>\n",
       "      <td>314.000000</td>\n",
       "    </tr>\n",
       "    <tr>\n",
       "      <th>mean</th>\n",
       "      <td>270.160849</td>\n",
       "      <td>270.190212</td>\n",
       "      <td>276.136369</td>\n",
       "      <td>263.798609</td>\n",
       "      <td>0.372615</td>\n",
       "      <td>0.039259</td>\n",
       "      <td>-0.970619</td>\n",
       "      <td>0.142860</td>\n",
       "      <td>0.755713</td>\n",
       "      <td>0.101455</td>\n",
       "    </tr>\n",
       "    <tr>\n",
       "      <th>std</th>\n",
       "      <td>54.495569</td>\n",
       "      <td>54.539239</td>\n",
       "      <td>56.283281</td>\n",
       "      <td>52.550442</td>\n",
       "      <td>0.020548</td>\n",
       "      <td>0.021955</td>\n",
       "      <td>0.229965</td>\n",
       "      <td>0.011625</td>\n",
       "      <td>0.012596</td>\n",
       "      <td>0.009862</td>\n",
       "    </tr>\n",
       "    <tr>\n",
       "      <th>min</th>\n",
       "      <td>187.666672</td>\n",
       "      <td>184.183334</td>\n",
       "      <td>188.736664</td>\n",
       "      <td>179.830002</td>\n",
       "      <td>0.308582</td>\n",
       "      <td>-0.031576</td>\n",
       "      <td>-0.999900</td>\n",
       "      <td>0.097000</td>\n",
       "      <td>0.721000</td>\n",
       "      <td>0.078000</td>\n",
       "    </tr>\n",
       "    <tr>\n",
       "      <th>25%</th>\n",
       "      <td>226.054997</td>\n",
       "      <td>227.331665</td>\n",
       "      <td>231.581665</td>\n",
       "      <td>222.668327</td>\n",
       "      <td>0.359251</td>\n",
       "      <td>0.025372</td>\n",
       "      <td>-0.999700</td>\n",
       "      <td>0.135000</td>\n",
       "      <td>0.747000</td>\n",
       "      <td>0.096000</td>\n",
       "    </tr>\n",
       "    <tr>\n",
       "      <th>50%</th>\n",
       "      <td>258.450012</td>\n",
       "      <td>258.578338</td>\n",
       "      <td>263.771668</td>\n",
       "      <td>252.855003</td>\n",
       "      <td>0.373917</td>\n",
       "      <td>0.036927</td>\n",
       "      <td>-0.999600</td>\n",
       "      <td>0.143000</td>\n",
       "      <td>0.755000</td>\n",
       "      <td>0.101000</td>\n",
       "    </tr>\n",
       "    <tr>\n",
       "      <th>75%</th>\n",
       "      <td>306.823341</td>\n",
       "      <td>304.206680</td>\n",
       "      <td>312.074157</td>\n",
       "      <td>297.591667</td>\n",
       "      <td>0.386657</td>\n",
       "      <td>0.050095</td>\n",
       "      <td>-0.999300</td>\n",
       "      <td>0.151000</td>\n",
       "      <td>0.764000</td>\n",
       "      <td>0.107000</td>\n",
       "    </tr>\n",
       "    <tr>\n",
       "      <th>max</th>\n",
       "      <td>409.970001</td>\n",
       "      <td>411.470001</td>\n",
       "      <td>414.496674</td>\n",
       "      <td>405.666656</td>\n",
       "      <td>0.436169</td>\n",
       "      <td>0.125060</td>\n",
       "      <td>0.999500</td>\n",
       "      <td>0.180000</td>\n",
       "      <td>0.788000</td>\n",
       "      <td>0.141000</td>\n",
       "    </tr>\n",
       "  </tbody>\n",
       "</table>\n",
       "</div>"
      ],
      "text/plain": [
       "            Close        Open        High         Low  Subjectivity  \\\n",
       "count  314.000000  314.000000  314.000000  314.000000    314.000000   \n",
       "mean   270.160849  270.190212  276.136369  263.798609      0.372615   \n",
       "std     54.495569   54.539239   56.283281   52.550442      0.020548   \n",
       "min    187.666672  184.183334  188.736664  179.830002      0.308582   \n",
       "25%    226.054997  227.331665  231.581665  222.668327      0.359251   \n",
       "50%    258.450012  258.578338  263.771668  252.855003      0.373917   \n",
       "75%    306.823341  304.206680  312.074157  297.591667      0.386657   \n",
       "max    409.970001  411.470001  414.496674  405.666656      0.436169   \n",
       "\n",
       "         Polarity    Compound    Negative     Neutral    Positive  \n",
       "count  314.000000  314.000000  314.000000  314.000000  314.000000  \n",
       "mean     0.039259   -0.970619    0.142860    0.755713    0.101455  \n",
       "std      0.021955    0.229965    0.011625    0.012596    0.009862  \n",
       "min     -0.031576   -0.999900    0.097000    0.721000    0.078000  \n",
       "25%      0.025372   -0.999700    0.135000    0.747000    0.096000  \n",
       "50%      0.036927   -0.999600    0.143000    0.755000    0.101000  \n",
       "75%      0.050095   -0.999300    0.151000    0.764000    0.107000  \n",
       "max      0.125060    0.999500    0.180000    0.788000    0.141000  "
      ]
     },
     "execution_count": 42,
     "metadata": {},
     "output_type": "execute_result"
    }
   ],
   "source": [
    "stock_data.describe()"
   ]
  },
  {
   "cell_type": "code",
   "execution_count": 45,
   "metadata": {
    "execution": {
     "iopub.execute_input": "2023-01-13T20:31:31.482418Z",
     "iopub.status.busy": "2023-01-13T20:31:31.481926Z",
     "iopub.status.idle": "2023-01-13T20:31:32.312578Z",
     "shell.execute_reply": "2023-01-13T20:31:32.311324Z",
     "shell.execute_reply.started": "2023-01-13T20:31:31.482374Z"
    }
   },
   "outputs": [
    {
     "data": {
      "text/plain": [
       "<AxesSubplot:>"
      ]
     },
     "execution_count": 45,
     "metadata": {},
     "output_type": "execute_result"
    },
    {
     "data": {
      "image/png": "[encoded data removed]",
      "text/plain": [
       "<Figure size 720x360 with 2 Axes>"
      ]
     },
     "metadata": {
      "needs_background": "light"
     },
     "output_type": "display_data"
    }
   ],
   "source": [
    "plt.figure(figsize=(10,5))\n",
    "sns.heatmap(stock_data.corr(),cmap='Blues',annot=True)"
   ]
  },
  {
   "cell_type": "code",
   "execution_count": 40,
   "metadata": {
    "execution": {
     "iopub.execute_input": "2023-01-13T20:30:32.980585Z",
     "iopub.status.busy": "2023-01-13T20:30:32.980178Z",
     "iopub.status.idle": "2023-01-13T20:30:33.220811Z",
     "shell.execute_reply": "2023-01-13T20:30:33.219774Z",
     "shell.execute_reply.started": "2023-01-13T20:30:32.980551Z"
    }
   },
   "outputs": [
    {
     "data": {
      "text/plain": [
       "<AxesSubplot:>"
      ]
     },
     "execution_count": 40,
     "metadata": {},
     "output_type": "execute_result"
    },
    {
     "data": {
      "image/png": "[encoded data removed]",
      "text/plain": [
       "<Figure size 720x432 with 1 Axes>"
      ]
     },
     "metadata": {
      "needs_background": "light"
     },
     "output_type": "display_data"
    }
   ],
   "source": [
    "plt.figure(figsize = (10,6))\n",
    "stock_data['Polarity'].hist(color = 'purple')"
   ]
  },
  {
   "cell_type": "code",
   "execution_count": 41,
   "metadata": {
    "execution": {
     "iopub.execute_input": "2023-01-13T20:30:35.425240Z",
     "iopub.status.busy": "2023-01-13T20:30:35.424859Z",
     "iopub.status.idle": "2023-01-13T20:30:35.673400Z",
     "shell.execute_reply": "2023-01-13T20:30:35.672253Z",
     "shell.execute_reply.started": "2023-01-13T20:30:35.425210Z"
    }
   },
   "outputs": [
    {
     "data": {
      "text/plain": [
       "<AxesSubplot:>"
      ]
     },
     "execution_count": 41,
     "metadata": {},
     "output_type": "execute_result"
    },
    {
     "data": {
      "image/png": "[encoded data removed]",
      "text/plain": [
       "<Figure size 720x432 with 1 Axes>"
      ]
     },
     "metadata": {
      "needs_background": "light"
     },
     "output_type": "display_data"
    }
   ],
   "source": [
    "plt.figure(figsize = (10,6))\n",
    "stock_data['Subjectivity'].hist(color = 'blue')"
   ]
  },
  {
   "cell_type": "code",
   "execution_count": 48,
   "metadata": {
    "execution": {
     "iopub.execute_input": "2023-01-13T20:32:19.785583Z",
     "iopub.status.busy": "2023-01-13T20:32:19.784585Z",
     "iopub.status.idle": "2023-01-13T20:32:20.064647Z",
     "shell.execute_reply": "2023-01-13T20:32:20.063654Z",
     "shell.execute_reply.started": "2023-01-13T20:32:19.785542Z"
    }
   },
   "outputs": [
    {
     "data": {
      "text/plain": [
       "Text(0, 0.5, 'Close Price')"
      ]
     },
     "execution_count": 48,
     "metadata": {},
     "output_type": "execute_result"
    },
    {
     "data": {
      "image/png": "[encoded data removed]",
      "text/plain": [
       "<Figure size 720x360 with 1 Axes>"
      ]
     },
     "metadata": {
      "needs_background": "light"
     },
     "output_type": "display_data"
    }
   ],
   "source": [
    "plt.figure(figsize=(10,5))\n",
    "stock_data['Close'].plot()\n",
    "plt.xlabel('Date')\n",
    "plt.ylabel('Close Price')"
   ]
  },
  {
   "cell_type": "code",
   "execution_count": 49,
   "metadata": {
    "execution": {
     "iopub.execute_input": "2023-01-13T20:32:31.405135Z",
     "iopub.status.busy": "2023-01-13T20:32:31.404698Z",
     "iopub.status.idle": "2023-01-13T20:32:31.656487Z",
     "shell.execute_reply": "2023-01-13T20:32:31.655246Z",
     "shell.execute_reply.started": "2023-01-13T20:32:31.405102Z"
    }
   },
   "outputs": [
    {
     "data": {
      "text/plain": [
       "<AxesSubplot:xlabel='Date'>"
      ]
     },
     "execution_count": 49,
     "metadata": {},
     "output_type": "execute_result"
    },
    {
     "data": {
      "image/png": "[encoded data removed]",
      "text/plain": [
       "<Figure size 864x576 with 1 Axes>"
      ]
     },
     "metadata": {
      "needs_background": "light"
     },
     "output_type": "display_data"
    }
   ],
   "source": [
    "plt.figure(figsize=(12,8))\n",
    "stock_data[stock_data.index > '2014-01-01']['Close'].plot()\n",
    "stock_data[stock_data.index > '2014-01-01'].rolling(window=7).mean()['Close'].plot()"
   ]
  },
  {
   "cell_type": "code",
   "execution_count": 50,
   "metadata": {
    "execution": {
     "iopub.execute_input": "2023-01-13T20:32:35.748316Z",
     "iopub.status.busy": "2023-01-13T20:32:35.747928Z",
     "iopub.status.idle": "2023-01-13T20:32:35.996580Z",
     "shell.execute_reply": "2023-01-13T20:32:35.995496Z",
     "shell.execute_reply.started": "2023-01-13T20:32:35.748286Z"
    }
   },
   "outputs": [
    {
     "data": {
      "text/plain": [
       "<AxesSubplot:xlabel='Date'>"
      ]
     },
     "execution_count": 50,
     "metadata": {},
     "output_type": "execute_result"
    },
    {
     "data": {
      "image/png": "[encoded data removed]",
      "text/plain": [
       "<Figure size 864x576 with 1 Axes>"
      ]
     },
     "metadata": {
      "needs_background": "light"
     },
     "output_type": "display_data"
    }
   ],
   "source": [
    "plt.figure(figsize=(12,8))\n",
    "stock_data[stock_data.index > '2014-01-01']['Close'].plot()\n",
    "stock_data[stock_data.index > '2014-01-01'].rolling(window=30).mean()['Close'].plot()"
   ]
  },
  {
   "cell_type": "code",
   "execution_count": 51,
   "metadata": {
    "execution": {
     "iopub.execute_input": "2023-01-13T20:36:50.362639Z",
     "iopub.status.busy": "2023-01-13T20:36:50.362258Z",
     "iopub.status.idle": "2023-01-13T20:36:50.370138Z",
     "shell.execute_reply": "2023-01-13T20:36:50.368716Z",
     "shell.execute_reply.started": "2023-01-13T20:36:50.362609Z"
    }
   },
   "outputs": [],
   "source": [
    "stock_data = stock_data.drop(['headlines'], axis = 1)"
   ]
  },
  {
   "cell_type": "markdown",
   "metadata": {},
   "source": [
    "Data Preparation for Modelling"
   ]
  },
  {
   "cell_type": "code",
   "execution_count": 52,
   "metadata": {
    "execution": {
     "iopub.execute_input": "2023-01-13T20:36:54.355031Z",
     "iopub.status.busy": "2023-01-13T20:36:54.354626Z",
     "iopub.status.idle": "2023-01-13T20:36:54.361072Z",
     "shell.execute_reply": "2023-01-13T20:36:54.359969Z",
     "shell.execute_reply.started": "2023-01-13T20:36:54.354998Z"
    }
   },
   "outputs": [],
   "source": [
    "time_step = 1\n",
    "training_size = int(len(stock_data) * 0.80)\n",
    "test_size = len(stock_data) - training_size\n",
    "train_data, test_data = stock_data.iloc[0:training_size, :], stock_data.iloc[training_size - time_step:len(stock_data), :]"
   ]
  },
  {
   "cell_type": "code",
   "execution_count": 53,
   "metadata": {
    "execution": {
     "iopub.execute_input": "2023-01-13T20:37:07.934992Z",
     "iopub.status.busy": "2023-01-13T20:37:07.934581Z",
     "iopub.status.idle": "2023-01-13T20:37:07.944764Z",
     "shell.execute_reply": "2023-01-13T20:37:07.943379Z",
     "shell.execute_reply.started": "2023-01-13T20:37:07.934960Z"
    }
   },
   "outputs": [],
   "source": [
    "def create_dataset(data, time_step = 1):\n",
    "    features = [data[\"Close\"]]\n",
    "    feature_names = [\"Close\"]\n",
    "    for i in range(1, time_step + 1):\n",
    "        feature = \"cp_shifted_{k}\".format(k = i)\n",
    "        feature_names.append(feature)\n",
    "        temp = data[\"Close\"].shift((-1 * i))\n",
    "        features.append(temp);\n",
    "        \n",
    "    features.append(data[\"Compound\"]) \n",
    "    feature_names.append(\"Compound\")\n",
    "    for i in range(1, time_step + 1):\n",
    "        feature = \"compound_shifted_{k}\".format(k = i)\n",
    "        feature_names.append(feature)\n",
    "        temp = data[\"Compound\"].shift((-1 * i))\n",
    "        features.append(temp);\n",
    "    \n",
    "    \n",
    "    df = pd.concat(features, axis=1)\n",
    "    df.columns = feature_names\n",
    "    df = df.shift(periods = time_step)\n",
    "    df = df.dropna()\n",
    "    return df"
   ]
  },
  {
   "cell_type": "code",
   "execution_count": 54,
   "metadata": {
    "execution": {
     "iopub.execute_input": "2023-01-13T20:37:25.393074Z",
     "iopub.status.busy": "2023-01-13T20:37:25.392644Z",
     "iopub.status.idle": "2023-01-13T20:37:25.405138Z",
     "shell.execute_reply": "2023-01-13T20:37:25.403971Z",
     "shell.execute_reply.started": "2023-01-13T20:37:25.393039Z"
    }
   },
   "outputs": [],
   "source": [
    "X_train = create_dataset(train_data, time_step)\n",
    "X_test = create_dataset(test_data, time_step)"
   ]
  },
  {
   "cell_type": "code",
   "execution_count": 55,
   "metadata": {
    "execution": {
     "iopub.execute_input": "2023-01-13T20:37:32.282385Z",
     "iopub.status.busy": "2023-01-13T20:37:32.281958Z",
     "iopub.status.idle": "2023-01-13T20:37:32.288569Z",
     "shell.execute_reply": "2023-01-13T20:37:32.287420Z",
     "shell.execute_reply.started": "2023-01-13T20:37:32.282349Z"
    }
   },
   "outputs": [],
   "source": [
    "y_train = X_train[\"cp_shifted_{t}\".format(t = time_step)]\n",
    "y_test = X_test[\"cp_shifted_{t}\".format(t = time_step)]\n"
   ]
  },
  {
   "cell_type": "code",
   "execution_count": 56,
   "metadata": {
    "execution": {
     "iopub.execute_input": "2023-01-13T20:37:37.775489Z",
     "iopub.status.busy": "2023-01-13T20:37:37.775071Z",
     "iopub.status.idle": "2023-01-13T20:37:37.783491Z",
     "shell.execute_reply": "2023-01-13T20:37:37.781806Z",
     "shell.execute_reply.started": "2023-01-13T20:37:37.775453Z"
    }
   },
   "outputs": [],
   "source": [
    "X_train.drop(columns = [\"cp_shifted_{t}\".format(t = time_step)], inplace = True)\n",
    "X_test.drop(columns = [\"cp_shifted_{t}\".format(t = time_step)], inplace = True)"
   ]
  },
  {
   "cell_type": "code",
   "execution_count": 57,
   "metadata": {
    "execution": {
     "iopub.execute_input": "2023-01-13T20:37:43.026590Z",
     "iopub.status.busy": "2023-01-13T20:37:43.026171Z",
     "iopub.status.idle": "2023-01-13T20:37:43.034139Z",
     "shell.execute_reply": "2023-01-13T20:37:43.033311Z",
     "shell.execute_reply.started": "2023-01-13T20:37:43.026554Z"
    }
   },
   "outputs": [
    {
     "data": {
      "text/plain": [
       "((250, 3), (63, 3))"
      ]
     },
     "execution_count": 57,
     "metadata": {},
     "output_type": "execute_result"
    }
   ],
   "source": [
    "X_train.shape, X_test.shape"
   ]
  },
  {
   "cell_type": "markdown",
   "metadata": {},
   "source": [
    "Scaling the target variable and feature dataset"
   ]
  },
  {
   "cell_type": "code",
   "execution_count": 58,
   "metadata": {
    "execution": {
     "iopub.execute_input": "2023-01-13T20:38:42.829006Z",
     "iopub.status.busy": "2023-01-13T20:38:42.828057Z",
     "iopub.status.idle": "2023-01-13T20:38:42.837554Z",
     "shell.execute_reply": "2023-01-13T20:38:42.836200Z",
     "shell.execute_reply.started": "2023-01-13T20:38:42.828969Z"
    }
   },
   "outputs": [],
   "source": [
    "from sklearn.preprocessing import MinMaxScaler\n",
    "scaler = MinMaxScaler(feature_range = (0, 1))\n",
    "\n",
    "X_train = scaler.fit_transform(np.array(X_train))\n",
    "y_train = scaler.fit_transform(np.array(y_train).reshape((len(y_train), 1)))\n",
    "\n",
    "X_test = scaler.fit_transform(np.array(X_test))\n",
    "y_test = scaler.fit_transform(np.array(y_test).reshape((len(y_test), 1)))"
   ]
  },
  {
   "cell_type": "code",
   "execution_count": 59,
   "metadata": {
    "execution": {
     "iopub.execute_input": "2023-01-13T20:38:48.679312Z",
     "iopub.status.busy": "2023-01-13T20:38:48.678924Z",
     "iopub.status.idle": "2023-01-13T20:38:48.687202Z",
     "shell.execute_reply": "2023-01-13T20:38:48.685959Z",
     "shell.execute_reply.started": "2023-01-13T20:38:48.679280Z"
    }
   },
   "outputs": [
    {
     "data": {
      "text/plain": [
       "((250, 3), (250, 1), (63, 3), (63, 1))"
      ]
     },
     "execution_count": 59,
     "metadata": {},
     "output_type": "execute_result"
    }
   ],
   "source": [
    "X_train.shape, y_train.shape, X_test.shape, y_test.shape\n"
   ]
  },
  {
   "cell_type": "markdown",
   "metadata": {},
   "source": [
    "Dividing dataset into training and testing"
   ]
  },
  {
   "cell_type": "code",
   "execution_count": 60,
   "metadata": {
    "execution": {
     "iopub.execute_input": "2023-01-13T20:38:55.529091Z",
     "iopub.status.busy": "2023-01-13T20:38:55.528679Z",
     "iopub.status.idle": "2023-01-13T20:38:55.535508Z",
     "shell.execute_reply": "2023-01-13T20:38:55.534156Z",
     "shell.execute_reply.started": "2023-01-13T20:38:55.529060Z"
    }
   },
   "outputs": [
    {
     "name": "stdout",
     "output_type": "stream",
     "text": [
      "Shape of Training set X: (250, 3, 1)\n",
      "Shape of Test set X: (63, 3, 1)\n"
     ]
    }
   ],
   "source": [
    "# Reshaping the feature dataset for feeding into the model\n",
    "X_train = X_train.reshape (X_train.shape + (1,)) \n",
    "X_test = X_test.reshape(X_test.shape + (1,))\n",
    "\n",
    "# Printing the re-shaped feature dataset\n",
    "print('Shape of Training set X:', X_train.shape)\n",
    "print('Shape of Test set X:', X_test.shape)"
   ]
  },
  {
   "cell_type": "markdown",
   "metadata": {},
   "source": [
    "Modelling Stock Data"
   ]
  },
  {
   "cell_type": "code",
   "execution_count": 61,
   "metadata": {
    "execution": {
     "iopub.execute_input": "2023-01-13T20:39:04.221273Z",
     "iopub.status.busy": "2023-01-13T20:39:04.220406Z",
     "iopub.status.idle": "2023-01-13T20:39:09.928810Z",
     "shell.execute_reply": "2023-01-13T20:39:09.927587Z",
     "shell.execute_reply.started": "2023-01-13T20:39:04.221224Z"
    }
   },
   "outputs": [],
   "source": [
    "from tensorflow.keras.models import Sequential\n",
    "from tensorflow.keras.layers import Dense, LSTM, Dropout, Activation"
   ]
  },
  {
   "cell_type": "code",
   "execution_count": 62,
   "metadata": {
    "execution": {
     "iopub.execute_input": "2023-01-13T20:39:16.793200Z",
     "iopub.status.busy": "2023-01-13T20:39:16.792492Z",
     "iopub.status.idle": "2023-01-13T20:39:17.658429Z",
     "shell.execute_reply": "2023-01-13T20:39:17.657051Z",
     "shell.execute_reply.started": "2023-01-13T20:39:16.793162Z"
    }
   },
   "outputs": [
    {
     "name": "stderr",
     "output_type": "stream",
     "text": [
      "2023-01-13 20:39:16.840771: I tensorflow/core/common_runtime/process_util.cc:146] Creating new thread pool with default inter op setting: 2. Tune using inter_op_parallelism_threads for best performance.\n"
     ]
    },
    {
     "name": "stdout",
     "output_type": "stream",
     "text": [
      "Model: \"sequential\"\n",
      "_________________________________________________________________\n",
      "Layer (type)                 Output Shape              Param #   \n",
      "=================================================================\n",
      "lstm (LSTM)                  (None, 3, 60)             14880     \n",
      "_________________________________________________________________\n",
      "dropout (Dropout)            (None, 3, 60)             0         \n",
      "_________________________________________________________________\n",
      "lstm_1 (LSTM)                (None, 3, 120)            86880     \n",
      "_________________________________________________________________\n",
      "dropout_1 (Dropout)          (None, 3, 120)            0         \n",
      "_________________________________________________________________\n",
      "lstm_2 (LSTM)                (None, 240)               346560    \n",
      "_________________________________________________________________\n",
      "dropout_2 (Dropout)          (None, 240)               0         \n",
      "_________________________________________________________________\n",
      "dense (Dense)                (None, 1)                 241       \n",
      "=================================================================\n",
      "Total params: 448,561\n",
      "Trainable params: 448,561\n",
      "Non-trainable params: 0\n",
      "_________________________________________________________________\n"
     ]
    }
   ],
   "source": [
    "# Creating the model architecture\n",
    "model=Sequential()\n",
    "model.add(LSTM(60,return_sequences=True,activation='tanh',input_shape=(X_train.shape[1], 1)))\n",
    "model.add(Dropout(0.2))\n",
    "model.add(LSTM(120,return_sequences=True,activation='tanh'))\n",
    "model.add(Dropout(0.2))\n",
    "model.add(LSTM(240,activation='tanh'))\n",
    "model.add(Dropout(0.1))\n",
    "model.add(Dense(1))\n",
    "\n",
    "# Printing the model summary\n",
    "model.summary()"
   ]
  },
  {
   "cell_type": "code",
   "execution_count": 63,
   "metadata": {
    "execution": {
     "iopub.execute_input": "2023-01-13T20:39:27.761684Z",
     "iopub.status.busy": "2023-01-13T20:39:27.761309Z",
     "iopub.status.idle": "2023-01-13T20:39:42.216147Z",
     "shell.execute_reply": "2023-01-13T20:39:42.215255Z",
     "shell.execute_reply.started": "2023-01-13T20:39:27.761653Z"
    }
   },
   "outputs": [
    {
     "name": "stderr",
     "output_type": "stream",
     "text": [
      "2023-01-13 20:39:27.824935: I tensorflow/compiler/mlir/mlir_graph_optimization_pass.cc:185] None of the MLIR Optimization Passes are enabled (registered 2)\n"
     ]
    },
    {
     "name": "stdout",
     "output_type": "stream",
     "text": [
      "Epoch 1/25\n",
      "13/13 [==============================] - 7s 114ms/step - loss: 0.0308 - val_loss: 0.1327\n",
      "Epoch 2/25\n",
      "13/13 [==============================] - 0s 17ms/step - loss: 0.0141 - val_loss: 0.2605\n",
      "Epoch 3/25\n",
      "13/13 [==============================] - 0s 16ms/step - loss: 0.0108 - val_loss: 0.1513\n",
      "Epoch 4/25\n",
      "13/13 [==============================] - 0s 15ms/step - loss: 0.0075 - val_loss: 0.0756\n",
      "Epoch 5/25\n",
      "13/13 [==============================] - 0s 16ms/step - loss: 0.0059 - val_loss: 0.0371\n",
      "Epoch 6/25\n",
      "13/13 [==============================] - 0s 16ms/step - loss: 0.0052 - val_loss: 0.0449\n",
      "Epoch 7/25\n",
      "13/13 [==============================] - 0s 16ms/step - loss: 0.0039 - val_loss: 0.0244\n",
      "Epoch 8/25\n",
      "13/13 [==============================] - 0s 16ms/step - loss: 0.0040 - val_loss: 0.0278\n",
      "Epoch 9/25\n",
      "13/13 [==============================] - 0s 16ms/step - loss: 0.0034 - val_loss: 0.0262\n",
      "Epoch 10/25\n",
      "13/13 [==============================] - 0s 16ms/step - loss: 0.0030 - val_loss: 0.0178\n",
      "Epoch 11/25\n",
      "13/13 [==============================] - 0s 16ms/step - loss: 0.0033 - val_loss: 0.0154\n",
      "Epoch 12/25\n",
      "13/13 [==============================] - 0s 16ms/step - loss: 0.0030 - val_loss: 0.0260\n",
      "Epoch 13/25\n",
      "13/13 [==============================] - 0s 16ms/step - loss: 0.0026 - val_loss: 0.0192\n",
      "Epoch 14/25\n",
      "13/13 [==============================] - 0s 15ms/step - loss: 0.0029 - val_loss: 0.0355\n",
      "Epoch 15/25\n",
      "13/13 [==============================] - 0s 15ms/step - loss: 0.0036 - val_loss: 0.0387\n",
      "Epoch 16/25\n",
      "13/13 [==============================] - 0s 15ms/step - loss: 0.0026 - val_loss: 0.0243\n",
      "Epoch 17/25\n",
      "13/13 [==============================] - 0s 16ms/step - loss: 0.0026 - val_loss: 0.0350\n",
      "Epoch 18/25\n",
      "13/13 [==============================] - 0s 16ms/step - loss: 0.0024 - val_loss: 0.0318\n",
      "Epoch 19/25\n",
      "13/13 [==============================] - 0s 16ms/step - loss: 0.0023 - val_loss: 0.0266\n",
      "Epoch 20/25\n",
      "13/13 [==============================] - 0s 15ms/step - loss: 0.0021 - val_loss: 0.0306\n",
      "Epoch 21/25\n",
      "13/13 [==============================] - 0s 15ms/step - loss: 0.0022 - val_loss: 0.0376\n",
      "Epoch 22/25\n",
      "13/13 [==============================] - 0s 15ms/step - loss: 0.0022 - val_loss: 0.0387\n",
      "Epoch 23/25\n",
      "13/13 [==============================] - 0s 16ms/step - loss: 0.0022 - val_loss: 0.0375\n",
      "Epoch 24/25\n",
      "13/13 [==============================] - 0s 16ms/step - loss: 0.0021 - val_loss: 0.0348\n",
      "Epoch 25/25\n",
      "13/13 [==============================] - 0s 16ms/step - loss: 0.0021 - val_loss: 0.0397\n"
     ]
    },
    {
     "data": {
      "text/plain": [
       "<keras.callbacks.History at 0x7fd07899b610>"
      ]
     },
     "execution_count": 63,
     "metadata": {},
     "output_type": "execute_result"
    }
   ],
   "source": [
    "# Compiling the model\n",
    "model.compile(loss='mse' , optimizer='adam')\n",
    "\n",
    "# Fitting the model using the training dataset\n",
    "model.fit(X_train, y_train, validation_split=0.2, epochs=25, batch_size=16, verbose=1)"
   ]
  },
  {
   "cell_type": "markdown",
   "metadata": {},
   "source": [
    "Predictions"
   ]
  },
  {
   "cell_type": "code",
   "execution_count": 64,
   "metadata": {
    "execution": {
     "iopub.execute_input": "2023-01-13T20:39:42.218024Z",
     "iopub.status.busy": "2023-01-13T20:39:42.217538Z",
     "iopub.status.idle": "2023-01-13T20:39:43.406574Z",
     "shell.execute_reply": "2023-01-13T20:39:43.405597Z",
     "shell.execute_reply.started": "2023-01-13T20:39:42.217992Z"
    }
   },
   "outputs": [
    {
     "name": "stdout",
     "output_type": "stream",
     "text": [
      "Predictions:\n"
     ]
    },
    {
     "data": {
      "text/plain": [
       "array([[334.93304],\n",
       "       [332.91647],\n",
       "       [349.85867],\n",
       "       [344.903  ],\n",
       "       [337.4301 ]], dtype=float32)"
      ]
     },
     "execution_count": 64,
     "metadata": {},
     "output_type": "execute_result"
    }
   ],
   "source": [
    "predictions = model.predict(X_test) \n",
    "\n",
    "# Unscaling the predictions\n",
    "predictions = scaler.inverse_transform(np.array(predictions).reshape((len(predictions), 1)))\n",
    "\n",
    "# Printing the predictions\n",
    "print('Predictions:')\n",
    "predictions[0:5]"
   ]
  },
  {
   "cell_type": "code",
   "execution_count": 65,
   "metadata": {
    "execution": {
     "iopub.execute_input": "2023-01-13T20:39:50.773276Z",
     "iopub.status.busy": "2023-01-13T20:39:50.772895Z",
     "iopub.status.idle": "2023-01-13T20:39:50.922409Z",
     "shell.execute_reply": "2023-01-13T20:39:50.921261Z",
     "shell.execute_reply.started": "2023-01-13T20:39:50.773246Z"
    }
   },
   "outputs": [],
   "source": [
    "train_predict=model.predict(X_train)\n",
    "test_predict=model.predict(X_test)"
   ]
  },
  {
   "cell_type": "code",
   "execution_count": 66,
   "metadata": {
    "execution": {
     "iopub.execute_input": "2023-01-13T20:39:57.628990Z",
     "iopub.status.busy": "2023-01-13T20:39:57.628578Z",
     "iopub.status.idle": "2023-01-13T20:39:57.635126Z",
     "shell.execute_reply": "2023-01-13T20:39:57.633916Z",
     "shell.execute_reply.started": "2023-01-13T20:39:57.628951Z"
    }
   },
   "outputs": [],
   "source": [
    "train_predict=scaler.inverse_transform(train_predict)\n",
    "test_predict=scaler.inverse_transform(test_predict)"
   ]
  },
  {
   "cell_type": "code",
   "execution_count": 68,
   "metadata": {
    "execution": {
     "iopub.execute_input": "2023-01-13T20:40:11.651641Z",
     "iopub.status.busy": "2023-01-13T20:40:11.651106Z",
     "iopub.status.idle": "2023-01-13T20:40:11.657083Z",
     "shell.execute_reply": "2023-01-13T20:40:11.655863Z",
     "shell.execute_reply.started": "2023-01-13T20:40:11.651598Z"
    }
   },
   "outputs": [],
   "source": [
    "import math"
   ]
  },
  {
   "cell_type": "code",
   "execution_count": 69,
   "metadata": {
    "execution": {
     "iopub.execute_input": "2023-01-13T20:40:13.646402Z",
     "iopub.status.busy": "2023-01-13T20:40:13.645472Z",
     "iopub.status.idle": "2023-01-13T20:40:13.655105Z",
     "shell.execute_reply": "2023-01-13T20:40:13.654062Z",
     "shell.execute_reply.started": "2023-01-13T20:40:13.646355Z"
    }
   },
   "outputs": [
    {
     "data": {
      "text/plain": [
       "298.4557234327765"
      ]
     },
     "execution_count": 69,
     "metadata": {},
     "output_type": "execute_result"
    }
   ],
   "source": [
    "from sklearn.metrics import mean_squared_error\n",
    "math.sqrt(mean_squared_error(y_train,train_predict))"
   ]
  },
  {
   "cell_type": "code",
   "execution_count": 70,
   "metadata": {
    "execution": {
     "iopub.execute_input": "2023-01-13T20:40:19.849191Z",
     "iopub.status.busy": "2023-01-13T20:40:19.848145Z",
     "iopub.status.idle": "2023-01-13T20:40:19.857271Z",
     "shell.execute_reply": "2023-01-13T20:40:19.855609Z",
     "shell.execute_reply.started": "2023-01-13T20:40:19.849152Z"
    }
   },
   "outputs": [
    {
     "data": {
      "text/plain": [
       "306.54176563430235"
      ]
     },
     "execution_count": 70,
     "metadata": {},
     "output_type": "execute_result"
    }
   ],
   "source": [
    "math.sqrt(mean_squared_error(y_test,test_predict))"
   ]
  },
  {
   "cell_type": "markdown",
   "metadata": {},
   "source": [
    "Model evaluation"
   ]
  },
  {
   "cell_type": "code",
   "execution_count": 71,
   "metadata": {
    "execution": {
     "iopub.execute_input": "2023-01-13T20:40:30.502008Z",
     "iopub.status.busy": "2023-01-13T20:40:30.501594Z",
     "iopub.status.idle": "2023-01-13T20:40:32.613535Z",
     "shell.execute_reply": "2023-01-13T20:40:32.612411Z",
     "shell.execute_reply.started": "2023-01-13T20:40:30.501972Z"
    }
   },
   "outputs": [
    {
     "name": "stdout",
     "output_type": "stream",
     "text": [
      "250/250 [==============================] - 2s 3ms/step - loss: 0.0094\n",
      "63/63 [==============================] - 0s 3ms/step - loss: 0.0151\n",
      "Train Loss = 0.0094\n",
      "Test Loss = 0.0151\n"
     ]
    }
   ],
   "source": [
    "# Calculating the training mean-squared-error\n",
    "train_loss = model.evaluate(X_train, y_train, batch_size = 1)\n",
    "\n",
    "# Calculating the test mean-squared-error\n",
    "test_loss = model.evaluate(X_test, y_test, batch_size = 1)\n",
    "\n",
    "# Printing the training and the test mean-squared-errors\n",
    "print('Train Loss =', round(train_loss,4))\n",
    "print('Test Loss =', round(test_loss,4))"
   ]
  },
  {
   "cell_type": "code",
   "execution_count": 72,
   "metadata": {
    "execution": {
     "iopub.execute_input": "2023-01-13T20:40:42.379434Z",
     "iopub.status.busy": "2023-01-13T20:40:42.379019Z",
     "iopub.status.idle": "2023-01-13T20:40:42.384487Z",
     "shell.execute_reply": "2023-01-13T20:40:42.383194Z",
     "shell.execute_reply.started": "2023-01-13T20:40:42.379399Z"
    }
   },
   "outputs": [],
   "source": [
    "from sklearn import metrics"
   ]
  },
  {
   "cell_type": "code",
   "execution_count": 73,
   "metadata": {
    "execution": {
     "iopub.execute_input": "2023-01-13T20:40:48.254097Z",
     "iopub.status.busy": "2023-01-13T20:40:48.253020Z",
     "iopub.status.idle": "2023-01-13T20:40:48.260427Z",
     "shell.execute_reply": "2023-01-13T20:40:48.259388Z",
     "shell.execute_reply.started": "2023-01-13T20:40:48.254058Z"
    }
   },
   "outputs": [
    {
     "name": "stdout",
     "output_type": "stream",
     "text": [
      "Root Mean Square Error = 306.5418\n"
     ]
    }
   ],
   "source": [
    "root_mean_square_error = np.sqrt(np.mean(np.power((y_test - predictions),2)))\n",
    "print('Root Mean Square Error =', round(root_mean_square_error,4))"
   ]
  },
  {
   "cell_type": "code",
   "execution_count": 74,
   "metadata": {
    "execution": {
     "iopub.execute_input": "2023-01-13T20:40:56.015021Z",
     "iopub.status.busy": "2023-01-13T20:40:56.014609Z",
     "iopub.status.idle": "2023-01-13T20:40:56.022051Z",
     "shell.execute_reply": "2023-01-13T20:40:56.020862Z",
     "shell.execute_reply.started": "2023-01-13T20:40:56.014990Z"
    }
   },
   "outputs": [
    {
     "name": "stdout",
     "output_type": "stream",
     "text": [
      "Root Mean Square Error (sklearn.metrics) = 306.5418\n"
     ]
    }
   ],
   "source": [
    "rmse = metrics.mean_squared_error(y_test, predictions)\n",
    "print('Root Mean Square Error (sklearn.metrics) =', round(np.sqrt(rmse),4))"
   ]
  },
  {
   "cell_type": "markdown",
   "metadata": {},
   "source": [
    "Plotting the predictions against unseen data"
   ]
  },
  {
   "cell_type": "code",
   "execution_count": 75,
   "metadata": {
    "execution": {
     "iopub.execute_input": "2023-01-13T20:41:04.364442Z",
     "iopub.status.busy": "2023-01-13T20:41:04.364046Z",
     "iopub.status.idle": "2023-01-13T20:41:04.372189Z",
     "shell.execute_reply": "2023-01-13T20:41:04.370813Z",
     "shell.execute_reply.started": "2023-01-13T20:41:04.364406Z"
    }
   },
   "outputs": [],
   "source": [
    "X_test = scaler.inverse_transform(np.array(X_test).reshape((len(X_test), 3)))\n",
    "\n",
    "# Unscaling y_test, y_train\n",
    "y_train = scaler.inverse_transform(np.array(y_train).reshape((len(y_train), 1)))\n",
    "y_test = scaler.inverse_transform(np.array(y_test).reshape((len(y_test), 1)))"
   ]
  },
  {
   "cell_type": "code",
   "execution_count": 76,
   "metadata": {
    "execution": {
     "iopub.execute_input": "2023-01-13T20:41:10.760604Z",
     "iopub.status.busy": "2023-01-13T20:41:10.760200Z",
     "iopub.status.idle": "2023-01-13T20:41:11.030164Z",
     "shell.execute_reply": "2023-01-13T20:41:11.029169Z",
     "shell.execute_reply.started": "2023-01-13T20:41:10.760570Z"
    }
   },
   "outputs": [
    {
     "data": {
      "image/png": "[encoded data removed]",
      "text/plain": [
       "<Figure size 1152x720 with 1 Axes>"
      ]
     },
     "metadata": {
      "needs_background": "light"
     },
     "output_type": "display_data"
    }
   ],
   "source": [
    "# Plotting\n",
    "plt.figure(figsize=(16,10))\n",
    "\n",
    "plt.plot(predictions, label=\"Predicted Close Price\")\n",
    "plt.plot([row[0] for row in y_test], label=\"Testing Close Price\")\n",
    "plt.legend(loc='upper center', bbox_to_anchor=(0.5, -0.05), fancybox=True, shadow=True, ncol=2)\n",
    "plt.show()"
   ]
  }
 ],
 "metadata": {
  "kernelspec": {
   "display_name": "Python 3",
   "language": "python",
   "name": "python3"
  },
  "language_info": {
   "codemirror_mode": {
    "name": "ipython",
    "version": 3
   },
   "file_extension": ".py",
   "mimetype": "text/x-python",
   "name": "python",
   "nbconvert_exporter": "python",
   "pygments_lexer": "ipython3",
   "version": "3.8.8"
  }
 },
 "nbformat": 4,
 "nbformat_minor": 4
}
